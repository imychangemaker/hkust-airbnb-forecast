{
 "cells": [
  {
   "cell_type": "markdown",
   "source": [
    "# **Project Overview** \n",
    "<br>\n",
    "<b>Business Problem</b>: <br>Question from Airbnb Hosts: <br>Will my listing be popular and reach a high booking rate? \n",
    "<br><br> \n",
    "<b>Objective</b>: <br>Predict the popularity of airbnb listing using number of reviews based on listing attributes."
   ],
   "metadata": {}
  },
  {
   "cell_type": "markdown",
   "source": [
    "# **1. Data Cleansing**"
   ],
   "metadata": {}
  },
  {
   "cell_type": "code",
   "execution_count": 2,
   "source": [
    "pip install wordcloud"
   ],
   "outputs": [
    {
     "output_type": "stream",
     "name": "stdout",
     "text": [
      "Requirement already satisfied: wordcloud in /opt/anaconda3/lib/python3.7/site-packages (1.6.0)\n",
      "Requirement already satisfied: pillow in /opt/anaconda3/lib/python3.7/site-packages (from wordcloud) (6.2.0)\n",
      "Requirement already satisfied: numpy>=1.6.1 in /opt/anaconda3/lib/python3.7/site-packages (from wordcloud) (1.17.2)\n",
      "Requirement already satisfied: matplotlib in /opt/anaconda3/lib/python3.7/site-packages (from wordcloud) (3.1.1)\n",
      "Requirement already satisfied: cycler>=0.10 in /opt/anaconda3/lib/python3.7/site-packages (from matplotlib->wordcloud) (0.10.0)\n",
      "Requirement already satisfied: kiwisolver>=1.0.1 in /opt/anaconda3/lib/python3.7/site-packages (from matplotlib->wordcloud) (1.1.0)\n",
      "Requirement already satisfied: pyparsing!=2.0.4,!=2.1.2,!=2.1.6,>=2.0.1 in /opt/anaconda3/lib/python3.7/site-packages (from matplotlib->wordcloud) (2.4.2)\n",
      "Requirement already satisfied: python-dateutil>=2.1 in /opt/anaconda3/lib/python3.7/site-packages (from matplotlib->wordcloud) (2.8.0)\n",
      "Requirement already satisfied: six in /opt/anaconda3/lib/python3.7/site-packages (from cycler>=0.10->matplotlib->wordcloud) (1.12.0)\n",
      "Requirement already satisfied: setuptools in /opt/anaconda3/lib/python3.7/site-packages (from kiwisolver>=1.0.1->matplotlib->wordcloud) (41.4.0)\n",
      "Note: you may need to restart the kernel to use updated packages.\n"
     ]
    }
   ],
   "metadata": {}
  },
  {
   "cell_type": "code",
   "execution_count": 3,
   "source": [
    "# Importing base library\n",
    "import pandas as pd \n",
    "import numpy as np \n",
    "from datetime import date, datetime, timedelta\n",
    "import time\n",
    "\n",
    "# Importing library for ploting\n",
    "import seaborn as sns \n",
    "import matplotlib.pyplot as plt\n",
    "import urllib\n",
    "from wordcloud import WordCloud, STOPWORDS\n",
    "\n",
    "# Importing library for pre-processing\n",
    "import math\n",
    "from sklearn.model_selection import train_test_split \n",
    "from sklearn.preprocessing import MinMaxScaler\n",
    "from sklearn.model_selection import KFold\n",
    "from sklearn.metrics import mean_squared_error\n",
    "from sklearn.metrics import r2_score\n",
    "from math import sqrt\n",
    "\n",
    "# Importing library for models\n",
    "from sklearn.linear_model import LinearRegression\n",
    "from sklearn.linear_model import Ridge\n",
    "from sklearn.linear_model import Lasso\n",
    "from sklearn.linear_model import BayesianRidge\n",
    "from sklearn.ensemble import GradientBoostingRegressor\n",
    "from sklearn import metrics"
   ],
   "outputs": [],
   "metadata": {}
  },
  {
   "cell_type": "code",
   "execution_count": 4,
   "source": [
    "#Start Time Count\n",
    "Start_time = time.time()"
   ],
   "outputs": [],
   "metadata": {}
  },
  {
   "cell_type": "markdown",
   "source": [
    "## **1.1 Importing and Validating Dataset**"
   ],
   "metadata": {}
  },
  {
   "cell_type": "code",
   "execution_count": 5,
   "source": [
    "# Import the external .csv file.\n",
    "# Assumption: The .csv file is put together with the .ipynb file.\n",
    "bnb = pd.read_csv(r\"AB_NYC_2019.csv\")\n",
    "\n",
    "# Retrieving the first 5 rows of the dataset.\n",
    "bnb.head(5)"
   ],
   "outputs": [
    {
     "output_type": "error",
     "ename": "FileNotFoundError",
     "evalue": "[Errno 2] File b'AB_NYC_2019.csv' does not exist: b'AB_NYC_2019.csv'",
     "traceback": [
      "\u001b[0;31m---------------------------------------------------------------------------\u001b[0m",
      "\u001b[0;31mFileNotFoundError\u001b[0m                         Traceback (most recent call last)",
      "\u001b[0;32m<ipython-input-5-8216bd238182>\u001b[0m in \u001b[0;36m<module>\u001b[0;34m\u001b[0m\n\u001b[1;32m      1\u001b[0m \u001b[0;31m# Import the external .csv file.\u001b[0m\u001b[0;34m\u001b[0m\u001b[0;34m\u001b[0m\u001b[0;34m\u001b[0m\u001b[0m\n\u001b[1;32m      2\u001b[0m \u001b[0;31m# Assumption: The .csv file is put together with the .ipynb file.\u001b[0m\u001b[0;34m\u001b[0m\u001b[0;34m\u001b[0m\u001b[0;34m\u001b[0m\u001b[0m\n\u001b[0;32m----> 3\u001b[0;31m \u001b[0mbnb\u001b[0m \u001b[0;34m=\u001b[0m \u001b[0mpd\u001b[0m\u001b[0;34m.\u001b[0m\u001b[0mread_csv\u001b[0m\u001b[0;34m(\u001b[0m\u001b[0;34mr\"AB_NYC_2019.csv\"\u001b[0m\u001b[0;34m)\u001b[0m\u001b[0;34m\u001b[0m\u001b[0;34m\u001b[0m\u001b[0m\n\u001b[0m\u001b[1;32m      4\u001b[0m \u001b[0;34m\u001b[0m\u001b[0m\n\u001b[1;32m      5\u001b[0m \u001b[0;31m# Retrieving the first 5 rows of the dataset.\u001b[0m\u001b[0;34m\u001b[0m\u001b[0;34m\u001b[0m\u001b[0;34m\u001b[0m\u001b[0m\n",
      "\u001b[0;32m/opt/anaconda3/lib/python3.7/site-packages/pandas/io/parsers.py\u001b[0m in \u001b[0;36mparser_f\u001b[0;34m(filepath_or_buffer, sep, delimiter, header, names, index_col, usecols, squeeze, prefix, mangle_dupe_cols, dtype, engine, converters, true_values, false_values, skipinitialspace, skiprows, skipfooter, nrows, na_values, keep_default_na, na_filter, verbose, skip_blank_lines, parse_dates, infer_datetime_format, keep_date_col, date_parser, dayfirst, cache_dates, iterator, chunksize, compression, thousands, decimal, lineterminator, quotechar, quoting, doublequote, escapechar, comment, encoding, dialect, error_bad_lines, warn_bad_lines, delim_whitespace, low_memory, memory_map, float_precision)\u001b[0m\n\u001b[1;32m    683\u001b[0m         )\n\u001b[1;32m    684\u001b[0m \u001b[0;34m\u001b[0m\u001b[0m\n\u001b[0;32m--> 685\u001b[0;31m         \u001b[0;32mreturn\u001b[0m \u001b[0m_read\u001b[0m\u001b[0;34m(\u001b[0m\u001b[0mfilepath_or_buffer\u001b[0m\u001b[0;34m,\u001b[0m \u001b[0mkwds\u001b[0m\u001b[0;34m)\u001b[0m\u001b[0;34m\u001b[0m\u001b[0;34m\u001b[0m\u001b[0m\n\u001b[0m\u001b[1;32m    686\u001b[0m \u001b[0;34m\u001b[0m\u001b[0m\n\u001b[1;32m    687\u001b[0m     \u001b[0mparser_f\u001b[0m\u001b[0;34m.\u001b[0m\u001b[0m__name__\u001b[0m \u001b[0;34m=\u001b[0m \u001b[0mname\u001b[0m\u001b[0;34m\u001b[0m\u001b[0;34m\u001b[0m\u001b[0m\n",
      "\u001b[0;32m/opt/anaconda3/lib/python3.7/site-packages/pandas/io/parsers.py\u001b[0m in \u001b[0;36m_read\u001b[0;34m(filepath_or_buffer, kwds)\u001b[0m\n\u001b[1;32m    455\u001b[0m \u001b[0;34m\u001b[0m\u001b[0m\n\u001b[1;32m    456\u001b[0m     \u001b[0;31m# Create the parser.\u001b[0m\u001b[0;34m\u001b[0m\u001b[0;34m\u001b[0m\u001b[0;34m\u001b[0m\u001b[0m\n\u001b[0;32m--> 457\u001b[0;31m     \u001b[0mparser\u001b[0m \u001b[0;34m=\u001b[0m \u001b[0mTextFileReader\u001b[0m\u001b[0;34m(\u001b[0m\u001b[0mfp_or_buf\u001b[0m\u001b[0;34m,\u001b[0m \u001b[0;34m**\u001b[0m\u001b[0mkwds\u001b[0m\u001b[0;34m)\u001b[0m\u001b[0;34m\u001b[0m\u001b[0;34m\u001b[0m\u001b[0m\n\u001b[0m\u001b[1;32m    458\u001b[0m \u001b[0;34m\u001b[0m\u001b[0m\n\u001b[1;32m    459\u001b[0m     \u001b[0;32mif\u001b[0m \u001b[0mchunksize\u001b[0m \u001b[0;32mor\u001b[0m \u001b[0miterator\u001b[0m\u001b[0;34m:\u001b[0m\u001b[0;34m\u001b[0m\u001b[0;34m\u001b[0m\u001b[0m\n",
      "\u001b[0;32m/opt/anaconda3/lib/python3.7/site-packages/pandas/io/parsers.py\u001b[0m in \u001b[0;36m__init__\u001b[0;34m(self, f, engine, **kwds)\u001b[0m\n\u001b[1;32m    893\u001b[0m             \u001b[0mself\u001b[0m\u001b[0;34m.\u001b[0m\u001b[0moptions\u001b[0m\u001b[0;34m[\u001b[0m\u001b[0;34m\"has_index_names\"\u001b[0m\u001b[0;34m]\u001b[0m \u001b[0;34m=\u001b[0m \u001b[0mkwds\u001b[0m\u001b[0;34m[\u001b[0m\u001b[0;34m\"has_index_names\"\u001b[0m\u001b[0;34m]\u001b[0m\u001b[0;34m\u001b[0m\u001b[0;34m\u001b[0m\u001b[0m\n\u001b[1;32m    894\u001b[0m \u001b[0;34m\u001b[0m\u001b[0m\n\u001b[0;32m--> 895\u001b[0;31m         \u001b[0mself\u001b[0m\u001b[0;34m.\u001b[0m\u001b[0m_make_engine\u001b[0m\u001b[0;34m(\u001b[0m\u001b[0mself\u001b[0m\u001b[0;34m.\u001b[0m\u001b[0mengine\u001b[0m\u001b[0;34m)\u001b[0m\u001b[0;34m\u001b[0m\u001b[0;34m\u001b[0m\u001b[0m\n\u001b[0m\u001b[1;32m    896\u001b[0m \u001b[0;34m\u001b[0m\u001b[0m\n\u001b[1;32m    897\u001b[0m     \u001b[0;32mdef\u001b[0m \u001b[0mclose\u001b[0m\u001b[0;34m(\u001b[0m\u001b[0mself\u001b[0m\u001b[0;34m)\u001b[0m\u001b[0;34m:\u001b[0m\u001b[0;34m\u001b[0m\u001b[0;34m\u001b[0m\u001b[0m\n",
      "\u001b[0;32m/opt/anaconda3/lib/python3.7/site-packages/pandas/io/parsers.py\u001b[0m in \u001b[0;36m_make_engine\u001b[0;34m(self, engine)\u001b[0m\n\u001b[1;32m   1133\u001b[0m     \u001b[0;32mdef\u001b[0m \u001b[0m_make_engine\u001b[0m\u001b[0;34m(\u001b[0m\u001b[0mself\u001b[0m\u001b[0;34m,\u001b[0m \u001b[0mengine\u001b[0m\u001b[0;34m=\u001b[0m\u001b[0;34m\"c\"\u001b[0m\u001b[0;34m)\u001b[0m\u001b[0;34m:\u001b[0m\u001b[0;34m\u001b[0m\u001b[0;34m\u001b[0m\u001b[0m\n\u001b[1;32m   1134\u001b[0m         \u001b[0;32mif\u001b[0m \u001b[0mengine\u001b[0m \u001b[0;34m==\u001b[0m \u001b[0;34m\"c\"\u001b[0m\u001b[0;34m:\u001b[0m\u001b[0;34m\u001b[0m\u001b[0;34m\u001b[0m\u001b[0m\n\u001b[0;32m-> 1135\u001b[0;31m             \u001b[0mself\u001b[0m\u001b[0;34m.\u001b[0m\u001b[0m_engine\u001b[0m \u001b[0;34m=\u001b[0m \u001b[0mCParserWrapper\u001b[0m\u001b[0;34m(\u001b[0m\u001b[0mself\u001b[0m\u001b[0;34m.\u001b[0m\u001b[0mf\u001b[0m\u001b[0;34m,\u001b[0m \u001b[0;34m**\u001b[0m\u001b[0mself\u001b[0m\u001b[0;34m.\u001b[0m\u001b[0moptions\u001b[0m\u001b[0;34m)\u001b[0m\u001b[0;34m\u001b[0m\u001b[0;34m\u001b[0m\u001b[0m\n\u001b[0m\u001b[1;32m   1136\u001b[0m         \u001b[0;32melse\u001b[0m\u001b[0;34m:\u001b[0m\u001b[0;34m\u001b[0m\u001b[0;34m\u001b[0m\u001b[0m\n\u001b[1;32m   1137\u001b[0m             \u001b[0;32mif\u001b[0m \u001b[0mengine\u001b[0m \u001b[0;34m==\u001b[0m \u001b[0;34m\"python\"\u001b[0m\u001b[0;34m:\u001b[0m\u001b[0;34m\u001b[0m\u001b[0;34m\u001b[0m\u001b[0m\n",
      "\u001b[0;32m/opt/anaconda3/lib/python3.7/site-packages/pandas/io/parsers.py\u001b[0m in \u001b[0;36m__init__\u001b[0;34m(self, src, **kwds)\u001b[0m\n\u001b[1;32m   1915\u001b[0m         \u001b[0mkwds\u001b[0m\u001b[0;34m[\u001b[0m\u001b[0;34m\"usecols\"\u001b[0m\u001b[0;34m]\u001b[0m \u001b[0;34m=\u001b[0m \u001b[0mself\u001b[0m\u001b[0;34m.\u001b[0m\u001b[0musecols\u001b[0m\u001b[0;34m\u001b[0m\u001b[0;34m\u001b[0m\u001b[0m\n\u001b[1;32m   1916\u001b[0m \u001b[0;34m\u001b[0m\u001b[0m\n\u001b[0;32m-> 1917\u001b[0;31m         \u001b[0mself\u001b[0m\u001b[0;34m.\u001b[0m\u001b[0m_reader\u001b[0m \u001b[0;34m=\u001b[0m \u001b[0mparsers\u001b[0m\u001b[0;34m.\u001b[0m\u001b[0mTextReader\u001b[0m\u001b[0;34m(\u001b[0m\u001b[0msrc\u001b[0m\u001b[0;34m,\u001b[0m \u001b[0;34m**\u001b[0m\u001b[0mkwds\u001b[0m\u001b[0;34m)\u001b[0m\u001b[0;34m\u001b[0m\u001b[0;34m\u001b[0m\u001b[0m\n\u001b[0m\u001b[1;32m   1918\u001b[0m         \u001b[0mself\u001b[0m\u001b[0;34m.\u001b[0m\u001b[0munnamed_cols\u001b[0m \u001b[0;34m=\u001b[0m \u001b[0mself\u001b[0m\u001b[0;34m.\u001b[0m\u001b[0m_reader\u001b[0m\u001b[0;34m.\u001b[0m\u001b[0munnamed_cols\u001b[0m\u001b[0;34m\u001b[0m\u001b[0;34m\u001b[0m\u001b[0m\n\u001b[1;32m   1919\u001b[0m \u001b[0;34m\u001b[0m\u001b[0m\n",
      "\u001b[0;32mpandas/_libs/parsers.pyx\u001b[0m in \u001b[0;36mpandas._libs.parsers.TextReader.__cinit__\u001b[0;34m()\u001b[0m\n",
      "\u001b[0;32mpandas/_libs/parsers.pyx\u001b[0m in \u001b[0;36mpandas._libs.parsers.TextReader._setup_parser_source\u001b[0;34m()\u001b[0m\n",
      "\u001b[0;31mFileNotFoundError\u001b[0m: [Errno 2] File b'AB_NYC_2019.csv' does not exist: b'AB_NYC_2019.csv'"
     ]
    }
   ],
   "metadata": {}
  },
  {
   "cell_type": "code",
   "execution_count": null,
   "source": [
    "# Retrieving the last 5 rows of the dataset.\n",
    "bnb.tail()"
   ],
   "outputs": [],
   "metadata": {
    "scrolled": true
   }
  },
  {
   "cell_type": "markdown",
   "source": [
    "48895 rows x 16 columns in total (first row index 0)"
   ],
   "metadata": {}
  },
  {
   "cell_type": "code",
   "execution_count": null,
   "source": [
    "# Getting some basic statistical details of the dataset.\n",
    "bnb.describe()"
   ],
   "outputs": [],
   "metadata": {}
  },
  {
   "cell_type": "code",
   "execution_count": null,
   "source": [
    "# Data Exploration and Visualization.\n",
    "# Getting the columns of the dataset.\n",
    "print(\"Columns: \\n\", bnb.columns, \"\\n\")\n",
    "\n",
    "# Getting the dimensions of the dataset.\n",
    "print(\"Dimension: \", bnb.shape)"
   ],
   "outputs": [],
   "metadata": {
    "scrolled": true
   }
  },
  {
   "cell_type": "markdown",
   "source": [
    "## **1.2 Checking for duplicates and remove unrelated columns** "
   ],
   "metadata": {}
  },
  {
   "cell_type": "code",
   "execution_count": null,
   "source": [
    "# Checking the duplicate rows based on ID.\n",
    "print('No of listings excluding duplicated record):',bnb['id'].unique().size)\n",
    "print('Total listings:', bnb['id'].size)"
   ],
   "outputs": [],
   "metadata": {}
  },
  {
   "cell_type": "markdown",
   "source": [
    "There are no duplicate rows to handle."
   ],
   "metadata": {}
  },
  {
   "cell_type": "markdown",
   "source": [
    "## **1.3 Checking Missing Values**"
   ],
   "metadata": {}
  },
  {
   "cell_type": "code",
   "execution_count": null,
   "source": [
    "# Finding missing values by comparing number of non-null values.\n",
    "bnb.info()"
   ],
   "outputs": [],
   "metadata": {
    "scrolled": true
   }
  },
  {
   "cell_type": "markdown",
   "source": [
    "\"name\", \"last_review\", \"reviews_per_month\" contain null values and need to be processed.\n",
    "\n",
    "The attribute \"host_name\" is NOT being processed because the attribute \"host_id\" is representating a unique host."
   ],
   "metadata": {}
  },
  {
   "cell_type": "code",
   "execution_count": null,
   "source": [
    "# Finding the exact number of missing values.\n",
    "bnb.isnull().sum()"
   ],
   "outputs": [],
   "metadata": {
    "scrolled": true
   }
  },
  {
   "cell_type": "code",
   "execution_count": null,
   "source": [
    "bnb['last_review'] = pd.to_datetime(bnb['last_review'], infer_datetime_format=True)\n",
    "total = bnb.isnull().sum().sort_values(ascending=False) \n",
    "percent=(bnb.isnull().sum()/bnb.isnull().count()).sort_values(ascending=False)\n",
    "missing_data = pd.concat([total,percent], axis=1, keys=['Total', 'Percent']).sort_values('Total', ascending=False)\n",
    "missing_data"
   ],
   "outputs": [],
   "metadata": {}
  },
  {
   "cell_type": "markdown",
   "source": [
    "Thus, 16 \"name\", 10052 \"last_review\", and 10052 \"reviews_per_month\" are needed to be processed."
   ],
   "metadata": {}
  },
  {
   "cell_type": "markdown",
   "source": [
    "## **1.4 Preprocessing columns**"
   ],
   "metadata": {}
  },
  {
   "cell_type": "markdown",
   "source": [
    "### **1.4.1 Processing columns with missing or null values**"
   ],
   "metadata": {}
  },
  {
   "cell_type": "markdown",
   "source": [
    "**1.4.1.1 Processing \"name\" column**"
   ],
   "metadata": {}
  },
  {
   "cell_type": "code",
   "execution_count": null,
   "source": [
    "# Checking for missing values.\n",
    "bnb[bnb[\"name\"].isnull()]"
   ],
   "outputs": [],
   "metadata": {
    "scrolled": true
   }
  },
  {
   "cell_type": "markdown",
   "source": [
    "There are 16 rows with NaN values. Since the 16 rows provide limited information for the other columns, they are most likely fake listing and are not useful for data analysis. So, we decided to drop them."
   ],
   "metadata": {}
  },
  {
   "cell_type": "code",
   "execution_count": null,
   "source": [
    "# Dropping rows with missing \"name\" values.\n",
    "bnb = bnb.dropna(subset=[\"name\"])\n",
    "bnb"
   ],
   "outputs": [],
   "metadata": {
    "scrolled": true
   }
  },
  {
   "cell_type": "markdown",
   "source": [
    "16 rows are removed. Now we have (48895 - 16 = ) 48,879 rows."
   ],
   "metadata": {}
  },
  {
   "cell_type": "markdown",
   "source": [
    "**1.4.1.2 Processing \"host_name\" column**"
   ],
   "metadata": {}
  },
  {
   "cell_type": "code",
   "execution_count": null,
   "source": [
    "# Checking for missing values.\n",
    "bnb[bnb[\"host_name\"].isnull()]"
   ],
   "outputs": [],
   "metadata": {
    "scrolled": true
   }
  },
  {
   "cell_type": "markdown",
   "source": [
    "There are 21 rows with NaN values. Since the 21 rows provide limited information for the other columns, they are most likely fake listing and are not useful for data analysis. So, we decided to drop them."
   ],
   "metadata": {}
  },
  {
   "cell_type": "code",
   "execution_count": null,
   "source": [
    "# Dropping rows with missing \"host_name\" values.\n",
    "bnb = bnb.dropna(subset=[\"host_name\"])\n",
    "bnb"
   ],
   "outputs": [],
   "metadata": {}
  },
  {
   "cell_type": "markdown",
   "source": [
    "21 rows are removed. Now we have (48879 - 21 = ) 48858 rows."
   ],
   "metadata": {}
  },
  {
   "cell_type": "markdown",
   "source": [
    "**1.4.1.3 Processing \"last_review\" and \"reviews_per_month\" column**"
   ],
   "metadata": {}
  },
  {
   "cell_type": "markdown",
   "source": [
    "We found that the number of rows which contains NaN are the same between attribute \"last_review\" and \"reviews_per_month\"."
   ],
   "metadata": {}
  },
  {
   "cell_type": "code",
   "execution_count": null,
   "source": [
    "# Checking for missing values in \"last_review\" column.\n",
    "bnb[bnb[\"last_review\"].isnull()]"
   ],
   "outputs": [],
   "metadata": {}
  },
  {
   "cell_type": "code",
   "execution_count": null,
   "source": [
    "# Checking for missing values in reviews_per_month column.\n",
    "bnb[bnb[\"reviews_per_month\"].isnull()]"
   ],
   "outputs": [],
   "metadata": {}
  },
  {
   "cell_type": "markdown",
   "source": [
    "The verification is as follows:"
   ],
   "metadata": {}
  },
  {
   "cell_type": "code",
   "execution_count": null,
   "source": [
    "(bnb[\"last_review\"].isnull() == bnb[\"reviews_per_month\"].isnull()).all()"
   ],
   "outputs": [],
   "metadata": {}
  },
  {
   "cell_type": "markdown",
   "source": [
    "We analyze that when \"last_review\" is NaN, so is \"reviews_per_month\". There are 10042 rows with NaN values in both columns. \n",
    "\n",
    "We considered replacing the NaN value with a mean/mode/random date, yet it is not quite reasonable to create further noise to our predictive model. Hence, our decision is to drop all the rows with value NaN in either attribute \"last_review\" or \"reviews_per_month\"."
   ],
   "metadata": {}
  },
  {
   "cell_type": "code",
   "execution_count": null,
   "source": [
    "# Trying to drop all the rows with value NaN in column \"last_review\".\n",
    "bnb = bnb.dropna(subset=[\"last_review\"])\n",
    "bnb"
   ],
   "outputs": [],
   "metadata": {}
  },
  {
   "cell_type": "code",
   "execution_count": null,
   "source": [
    "# Trying to drop all the rows with value NaN in column \"reviews_per_month\".\n",
    "bnb = bnb.dropna(subset=[\"reviews_per_month\"])\n",
    "bnb"
   ],
   "outputs": [],
   "metadata": {}
  },
  {
   "cell_type": "markdown",
   "source": [
    "Therefore, there are (48879 - 10042 = ) 38837 rows left."
   ],
   "metadata": {}
  },
  {
   "cell_type": "markdown",
   "source": [
    "**1.4.1.3 Post-processing**"
   ],
   "metadata": {}
  },
  {
   "cell_type": "markdown",
   "source": [
    "The checking after processing observable missing or NaN attributes:"
   ],
   "metadata": {}
  },
  {
   "cell_type": "code",
   "execution_count": null,
   "source": [
    "bnb['last_review'] = pd.to_datetime(bnb['last_review'], infer_datetime_format=True)\n",
    "total = bnb.isnull().sum().sort_values(ascending=False) \n",
    "percent=(bnb.isnull().sum()/bnb.isnull().count()).sort_values(ascending=False)\n",
    "missing_data = pd.concat([total,percent], axis=1, keys=['Total', 'Percent']).sort_values('Total', ascending=False)\n",
    "missing_data"
   ],
   "outputs": [],
   "metadata": {}
  },
  {
   "cell_type": "code",
   "execution_count": null,
   "source": [
    "bnb.info()"
   ],
   "outputs": [],
   "metadata": {}
  },
  {
   "cell_type": "markdown",
   "source": [
    "Thus, the process is finished."
   ],
   "metadata": {}
  },
  {
   "cell_type": "markdown",
   "source": [
    "### **1.4.2 Processing \"availability_365\" column**"
   ],
   "metadata": {}
  },
  {
   "cell_type": "code",
   "execution_count": null,
   "source": [
    "# Checking for values = 0 in column \"availability_365\".\n",
    "bnb.loc[bnb[\"availability_365\"] == 0]"
   ],
   "outputs": [],
   "metadata": {
    "scrolled": true
   }
  },
  {
   "cell_type": "markdown",
   "source": [
    "There are 12684 rows with 0. Since they provide useful information in other columns, we will replace them with mean."
   ],
   "metadata": {}
  },
  {
   "cell_type": "code",
   "execution_count": null,
   "source": [
    "# Replacing the null rows with the mean.\n",
    "bnb[\"availability_365\"].replace(0, bnb[\"availability_365\"].mean(), inplace = True)\n",
    "bnb"
   ],
   "outputs": [],
   "metadata": {}
  },
  {
   "cell_type": "markdown",
   "source": [
    "# **2. Exploratory Data Analysis (EDA)**"
   ],
   "metadata": {}
  },
  {
   "cell_type": "markdown",
   "source": [
    "Before moving on to data construction, we would first like to do some visualization of the current data to better understand the dataset."
   ],
   "metadata": {}
  },
  {
   "cell_type": "markdown",
   "source": [
    "## **2.1: Pie chart displaying the distribution of listings across neighbourhood groups**"
   ],
   "metadata": {}
  },
  {
   "cell_type": "code",
   "execution_count": null,
   "source": [
    "%matplotlib inline\n",
    "plt.figure(figsize=(8,8)) \n",
    "bnb.groupby(\"neighbourhood_group\").neighbourhood_group.count().sort_values().plot(kind=\"pie\") \n",
    "labels = list(bnb['neighbourhood_group'].unique())\n",
    "sizes = list(bnb.groupby(\"neighbourhood_group\").neighbourhood_group.count().sort_values())\n",
    "\n",
    "plt.title(\"Neighbourhood distribution\")\n",
    "plt.pie(sizes,autopct='%1.1f%%', pctdistance=0.8, labeldistance=1.3)\n",
    "plt.ylabel(\"\")"
   ],
   "outputs": [],
   "metadata": {}
  },
  {
   "cell_type": "markdown",
   "source": [
    "This chart shows the distribution of listings across the five neighborhood groups in NYC. We can see that the neighborhood group with the highest number of listings is Manhattan, followed by Brooklyn, Queens, Bronx and Staten Island. Manhattan and Brooklyn has most listings by far, having 85% of listings in these two neighborhood groups."
   ],
   "metadata": {}
  },
  {
   "cell_type": "markdown",
   "source": [
    "## **2.2: Pie chart showing the distribution of room types**"
   ],
   "metadata": {}
  },
  {
   "cell_type": "code",
   "execution_count": null,
   "source": [
    "%matplotlib inline\n",
    "plt.figure(figsize=(8,8)) \n",
    "bnb.groupby(\"room_type\").room_type.count().sort_values().plot(kind=\"pie\")\n",
    "labels = list(bnb['room_type'].unique())\n",
    "sizes = list(bnb.groupby(\"room_type\").room_type.count().sort_values())\n",
    "\n",
    "plt.title(\"Room type distribution\")\n",
    "plt.pie(sizes,autopct='%1.1f%%', pctdistance=0.9, labeldistance=1.3)\n",
    "plt.ylabel(\"\")"
   ],
   "outputs": [],
   "metadata": {}
  },
  {
   "cell_type": "markdown",
   "source": [
    "This pie chart shows the distribution of room types, with entire home or apartment the most popular room type (52%), followed by private room, a close second (45.7%). Shared room has a significantly lower popularity of only 2.4%."
   ],
   "metadata": {}
  },
  {
   "cell_type": "markdown",
   "source": [
    "## **2.3: Catplot displaying the relationship between neighbourhood and room type**"
   ],
   "metadata": {}
  },
  {
   "cell_type": "code",
   "execution_count": null,
   "source": [
    "# Finding out top 10 neighbourhoods\n",
    "print(bnb.neighbourhood.value_counts().head(10))\n",
    "\n",
    "# Constructing a sub-dataframe for top 10 neighbourhood\n",
    "sub_1 = bnb.loc[bnb['neighbourhood'].isin(['Williamsburg','Bedford-Stuyvesant','Harlem','Bushwick',\n",
    "                 'Upper West Side','Hell\\'s Kitchen','East Village','Upper East Side','Crown Heights','Midtown'])]\n",
    "\n",
    "# Constructing the catplot\n",
    "viz_3 = sns.catplot(x='neighbourhood', hue='neighbourhood_group', col='room_type', data=sub_1, kind='count')\n",
    "viz_3.set_xticklabels(rotation=90)"
   ],
   "outputs": [],
   "metadata": {}
  },
  {
   "cell_type": "markdown",
   "source": [
    "\"Shared room\" type Airbnb listing is not available among 10 most listing-populated neighborhoods. The top ten neighbourhoods lies within Manhattan and Brooklyn. As they are one of the most traveled destinations, they would have the most listing availability. We can also see that Bedford-Stuyvesant and Williamsburg are the most popular for Brooklyn borough, and Harlem and Upper East Side for Manhattan."
   ],
   "metadata": {}
  },
  {
   "cell_type": "markdown",
   "source": [
    "## **2.4: Scatterplot displaying the relationship between neighbourhood and number of reviews**"
   ],
   "metadata": {}
  },
  {
   "cell_type": "code",
   "execution_count": null,
   "source": [
    "bnb['number_of_reviews'].describe()"
   ],
   "outputs": [],
   "metadata": {}
  },
  {
   "cell_type": "code",
   "execution_count": null,
   "source": [
    "# Creating a sub-dataframe with no extreme values in number of reviews\n",
    "sub_1 = bnb[bnb.number_of_reviews < 100]\n",
    "\n",
    "# Initializing the figure size\n",
    "plt.figure(figsize = (10,8))\n",
    "\n",
    "# Loading the png NYC image found on Google\n",
    "nycimage = urllib.request.urlopen(\"https://upload.wikimedia.org/wikipedia/commons/e/ec/Neighbourhoods_New_York_City_Map.PNG\")\n",
    "read_nycimage = plt.imread(nycimage)\n",
    "\n",
    "# Scaling the image based on the latitude and longitude max and mins for proper output\n",
    "plt.imshow(read_nycimage, zorder = 0,extent = [-74.258, -73.7, 40.49, 40.92])\n",
    "ax = plt.gca()\n",
    "\n",
    "# Constructing the scatterplot\n",
    "sub_1.plot(kind = \"scatter\", x = \"longitude\", y = \"latitude\", label = \"Listings\", c = \"number_of_reviews\", ax = ax, \n",
    "           cmap = plt.get_cmap(\"jet\"), colorbar = True, alpha = 0.4, zorder = 5)\n",
    "plt.legend()\n",
    "plt.show()"
   ],
   "outputs": [],
   "metadata": {}
  },
  {
   "cell_type": "markdown",
   "source": [
    "The insight we can draw from this chart is that areas with more airbnb listings seem to have a lower number of reviews. Areas with less listing density have more listings with higher number of reviews (as shown by the lighter color circles). This implies that the more listings in an area, the lower the popularity in terms of number of reviews."
   ],
   "metadata": {}
  },
  {
   "cell_type": "markdown",
   "source": [
    "## **2.5: Scatterplot displaying the relationship between neighbourhood and price**"
   ],
   "metadata": {}
  },
  {
   "cell_type": "code",
   "execution_count": null,
   "source": [
    "# Creating a sub-dataframe with no extreme values in price\n",
    "sub_2 = bnb[bnb.price < 500]\n",
    "\n",
    "# Initializing the figure size\n",
    "plt.figure(figsize = (10,8))\n",
    "\n",
    "# Loading the png NYC image found on Google\n",
    "nycimage = urllib.request.urlopen(\"https://upload.wikimedia.org/wikipedia/commons/e/ec/Neighbourhoods_New_York_City_Map.PNG\")\n",
    "read_nycimage = plt.imread(nycimage)\n",
    "\n",
    "# Scaling the image based on the latitude and longitude max and mins for proper output\n",
    "plt.imshow(read_nycimage, zorder = 0,extent = [-74.258, -73.7, 40.49, 40.92])\n",
    "ax = plt.gca()\n",
    "\n",
    "# Constructing the scatterplot\n",
    "sub_2.plot(kind = \"scatter\", x = \"longitude\", y = \"latitude\", label = \"Listings\", c = \"price\", ax = ax, cmap = plt.get_cmap('jet'), colorbar = True, alpha = 0.4, zorder = 5)\n",
    "plt.legend()\n",
    "plt.show()"
   ],
   "outputs": [],
   "metadata": {}
  },
  {
   "cell_type": "markdown",
   "source": [
    "The scatterplot shows that midtown Manhattan has the some most expensive listings up to USD 150-200. This makes sense because all the tourist spots are centered around midtown Manhattan. For other areas, the price is usually below USD100 with occasional listing above USD100"
   ],
   "metadata": {}
  },
  {
   "cell_type": "markdown",
   "source": [
    "# **3. Defining Goals**"
   ],
   "metadata": {}
  },
  {
   "cell_type": "markdown",
   "source": [
    "## Project Goal \n",
    "\n",
    "Currently, there is no number of bookings to represent the popularity. In order to answer our business objectives, we will be building predictive models using ['reviews_per_month']  as a reference point to estimate the number of bookings \n",
    "\n",
    "The column reviews_per_month reflects the **minimal** number of bookings of the listing per month as there may be travellers who have booked the place without leaving comments. \n",
    "\n",
    "After finding the best predictive model, we will calculate the projected number of bookings of the listings in our conclusion."
   ],
   "metadata": {}
  },
  {
   "cell_type": "markdown",
   "source": [
    "## Rationale for the *project number of bookings* \n",
    "\n",
    "To derive the booking rate of Airbnb, we leverage on the methodology from Insideairbnb, which is an independent Airbnb data analytic site. (Source: http://insideairbnb.com/about.html)\n",
    "\n",
    "According to San Francisco model, a review rate of 50% is used to convert reviews to estimated bookings.\n",
    "\n",
    "Alex Marqusee uses a review rate of 72%, however this is attributed to an unreliable source: Airbnb's CEO and co-founder Brian Chesky. The Budget and Legislative Analyst's Office also use a value 72% for their review rate, and in addition, introduce a higher impact model using a review rate of 30.5% - based on comparing public data of reviews to the The New York Attorney General’s report on Airbnb released in October 2014.\n",
    "\n",
    "Inside Airbnb analysis found that using a review rate 30.5% is more fact based, however probably not conservative enough, given that the Budget and Legislative Analyst's Office did not take into account missing reviews because of deleted listings. A review rate of 72% is unverifiable - therefore 50% was chosen as it sits almost exactly between 72% and 30.5%.\n",
    "\n",
    "**Conclusion:\n",
    "Projected Number of booking = (reviews per month * 12) / 0.5**\n",
    "\n",
    "Based on this definition, we are going to construct a dateset with the following features:\n",
    "<br>\n",
    "Dataset_y = **reviews_per_month**\n",
    "<br>\n",
    "Dataset_X = **Airbnb Features (Specified in 4.3 Calculating Correlation)**"
   ],
   "metadata": {}
  },
  {
   "cell_type": "markdown",
   "source": [
    "# **4. Data Construction**"
   ],
   "metadata": {}
  },
  {
   "cell_type": "markdown",
   "source": [
    "## **4.1 Data construction - independant variable (X)**"
   ],
   "metadata": {}
  },
  {
   "cell_type": "markdown",
   "source": [
    "### **4.1.1 Text mining for name variable**"
   ],
   "metadata": {}
  },
  {
   "cell_type": "markdown",
   "source": [
    "It is very difficult to incorporate the text exploration in our modelling, but we believe the word of choice in the listing name more or less affects the preference of Airbnb guests. Therefore, we conduct a separate data visualization before moving onto the modelling."
   ],
   "metadata": {}
  },
  {
   "cell_type": "code",
   "execution_count": null,
   "source": [
    "comment_words = \" \"\n",
    "stopwords = set(STOPWORDS) \n",
    "  \n",
    "# Iterate through the csv file \n",
    "for val in bnb.name: \n",
    "    # Typecaste each val to string \n",
    "    val = str(val) \n",
    "    # Split the value \n",
    "    tokens = val.split() \n",
    "    # Converts each token into lowercase \n",
    "    for i in range(len(tokens)): \n",
    "        tokens[i] = tokens[i].lower()      \n",
    "    for words in tokens: \n",
    "        comment_words = comment_words + words + \" \"\n",
    "\n",
    "wordcloud = WordCloud(width = 800, height = 800, \n",
    "                background_color =\"white\", \n",
    "                stopwords = stopwords, \n",
    "                min_font_size = 10).generate(comment_words) \n",
    "  \n",
    "# Plot the WordCloud image                        \n",
    "plt.figure(figsize = (8, 8), facecolor = None) \n",
    "plt.imshow(wordcloud) \n",
    "plt.axis(\"off\") \n",
    "plt.tight_layout(pad = 0) \n",
    "plt.show() "
   ],
   "outputs": [],
   "metadata": {}
  },
  {
   "cell_type": "markdown",
   "source": [
    "As we can see from the wordcloud, words from three areas are usually adopted by hosts for name listing:\n",
    "1. Area words: brooklyn, nyc, central park, east village\n",
    "2. Factual house description: private room, private bedroom, apartment\n",
    "3. Adjectives: beautiful, charming, modern, spacious, cozy\n",
    "\n",
    "Hence, it will be a usual combination to have area + house + adjectives as the name formula. Until this point, it would be out of reach for us to associate words with the booking rate. So, our analysis for name will stop at this stage."
   ],
   "metadata": {}
  },
  {
   "cell_type": "markdown",
   "source": [
    "### **4.1.2 Dropping irrelevant columns**"
   ],
   "metadata": {}
  },
  {
   "cell_type": "markdown",
   "source": [
    "Based on our intuition, id, host_id, host_name are useless in projecting the booking rate because guests will not book an Airbnb based on these attributes. Also, we find the content duplication of neighbourhood, latitude and longitude with neighbourhood_group. To simply our model training, we will keep neighbourhood_group only for geography analysis. We will also drop the name column after the above analysis."
   ],
   "metadata": {}
  },
  {
   "cell_type": "code",
   "execution_count": null,
   "source": [
    "bnb.drop([\"id\", \"host_id\", \"host_name\", \"neighbourhood\", \"name\", \"latitude\", \"longitude\"], axis = 1, inplace = True)"
   ],
   "outputs": [],
   "metadata": {}
  },
  {
   "cell_type": "markdown",
   "source": [
    "### **4.1.3 Adding days_since_last_review column**"
   ],
   "metadata": {}
  },
  {
   "cell_type": "code",
   "execution_count": null,
   "source": [
    "# Formula: days_since_last_review = current date - last_review\n",
    "bnb['days_since_last_review'] = datetime.today() - pd.to_datetime(bnb['last_review'])\n",
    "bnb['days_since_last_review'] = bnb['days_since_last_review'].dt.days\n",
    "bnb['days_since_last_review'] = bnb['days_since_last_review'].astype(np.float64)\n",
    "\n",
    "# Dropping the last_review column as we will ONLY use the difference in date for analysis\n",
    "bnb.drop([\"last_review\"], axis=1, inplace = True)\n",
    "bnb.head(5)"
   ],
   "outputs": [],
   "metadata": {}
  },
  {
   "cell_type": "markdown",
   "source": [
    "## **4.2 One-hot Encoding for Categorical Variables - Neighbourhood Group and Room Type**"
   ],
   "metadata": {}
  },
  {
   "cell_type": "code",
   "execution_count": 35,
   "source": [
    "# Setting up bnb2 for one hot encoding\n",
    "bnb1 = bnb\n",
    "bnb2 = pd.get_dummies(bnb, drop_first = True)\n",
    "bnb2.head()"
   ],
   "outputs": [
    {
     "output_type": "execute_result",
     "data": {
      "text/html": [
       "<div>\n",
       "<style scoped>\n",
       "    .dataframe tbody tr th:only-of-type {\n",
       "        vertical-align: middle;\n",
       "    }\n",
       "\n",
       "    .dataframe tbody tr th {\n",
       "        vertical-align: top;\n",
       "    }\n",
       "\n",
       "    .dataframe thead th {\n",
       "        text-align: right;\n",
       "    }\n",
       "</style>\n",
       "<table border=\"1\" class=\"dataframe\">\n",
       "  <thead>\n",
       "    <tr style=\"text-align: right;\">\n",
       "      <th></th>\n",
       "      <th>price</th>\n",
       "      <th>minimum_nights</th>\n",
       "      <th>number_of_reviews</th>\n",
       "      <th>reviews_per_month</th>\n",
       "      <th>calculated_host_listings_count</th>\n",
       "      <th>availability_365</th>\n",
       "      <th>days_since_last_review</th>\n",
       "      <th>neighbourhood_group_Bronx</th>\n",
       "      <th>neighbourhood_group_Brooklyn</th>\n",
       "      <th>neighbourhood_group_Manhattan</th>\n",
       "      <th>neighbourhood_group_Queens</th>\n",
       "      <th>neighbourhood_group_Staten Island</th>\n",
       "      <th>room_type_Entire home/apt</th>\n",
       "      <th>room_type_Private room</th>\n",
       "      <th>room_type_Shared room</th>\n",
       "    </tr>\n",
       "  </thead>\n",
       "  <tbody>\n",
       "    <tr>\n",
       "      <td>0</td>\n",
       "      <td>149</td>\n",
       "      <td>1</td>\n",
       "      <td>9</td>\n",
       "      <td>0.21</td>\n",
       "      <td>6</td>\n",
       "      <td>365.000000</td>\n",
       "      <td>414.0</td>\n",
       "      <td>0</td>\n",
       "      <td>1</td>\n",
       "      <td>0</td>\n",
       "      <td>0</td>\n",
       "      <td>0</td>\n",
       "      <td>0</td>\n",
       "      <td>1</td>\n",
       "      <td>0</td>\n",
       "    </tr>\n",
       "    <tr>\n",
       "      <td>1</td>\n",
       "      <td>225</td>\n",
       "      <td>1</td>\n",
       "      <td>45</td>\n",
       "      <td>0.38</td>\n",
       "      <td>2</td>\n",
       "      <td>355.000000</td>\n",
       "      <td>200.0</td>\n",
       "      <td>0</td>\n",
       "      <td>0</td>\n",
       "      <td>1</td>\n",
       "      <td>0</td>\n",
       "      <td>0</td>\n",
       "      <td>1</td>\n",
       "      <td>0</td>\n",
       "      <td>0</td>\n",
       "    </tr>\n",
       "    <tr>\n",
       "      <td>3</td>\n",
       "      <td>89</td>\n",
       "      <td>1</td>\n",
       "      <td>270</td>\n",
       "      <td>4.64</td>\n",
       "      <td>1</td>\n",
       "      <td>194.000000</td>\n",
       "      <td>155.0</td>\n",
       "      <td>0</td>\n",
       "      <td>1</td>\n",
       "      <td>0</td>\n",
       "      <td>0</td>\n",
       "      <td>0</td>\n",
       "      <td>1</td>\n",
       "      <td>0</td>\n",
       "      <td>0</td>\n",
       "    </tr>\n",
       "    <tr>\n",
       "      <td>4</td>\n",
       "      <td>80</td>\n",
       "      <td>10</td>\n",
       "      <td>9</td>\n",
       "      <td>0.10</td>\n",
       "      <td>1</td>\n",
       "      <td>114.886299</td>\n",
       "      <td>383.0</td>\n",
       "      <td>0</td>\n",
       "      <td>0</td>\n",
       "      <td>1</td>\n",
       "      <td>0</td>\n",
       "      <td>0</td>\n",
       "      <td>1</td>\n",
       "      <td>0</td>\n",
       "      <td>0</td>\n",
       "    </tr>\n",
       "    <tr>\n",
       "      <td>5</td>\n",
       "      <td>200</td>\n",
       "      <td>3</td>\n",
       "      <td>74</td>\n",
       "      <td>0.59</td>\n",
       "      <td>1</td>\n",
       "      <td>129.000000</td>\n",
       "      <td>168.0</td>\n",
       "      <td>0</td>\n",
       "      <td>0</td>\n",
       "      <td>1</td>\n",
       "      <td>0</td>\n",
       "      <td>0</td>\n",
       "      <td>1</td>\n",
       "      <td>0</td>\n",
       "      <td>0</td>\n",
       "    </tr>\n",
       "  </tbody>\n",
       "</table>\n",
       "</div>"
      ],
      "text/plain": [
       "   price  minimum_nights  number_of_reviews  reviews_per_month  \\\n",
       "0    149               1                  9               0.21   \n",
       "1    225               1                 45               0.38   \n",
       "3     89               1                270               4.64   \n",
       "4     80              10                  9               0.10   \n",
       "5    200               3                 74               0.59   \n",
       "\n",
       "   calculated_host_listings_count  availability_365  days_since_last_review  \\\n",
       "0                               6        365.000000                   414.0   \n",
       "1                               2        355.000000                   200.0   \n",
       "3                               1        194.000000                   155.0   \n",
       "4                               1        114.886299                   383.0   \n",
       "5                               1        129.000000                   168.0   \n",
       "\n",
       "   neighbourhood_group_Bronx  neighbourhood_group_Brooklyn  \\\n",
       "0                          0                             1   \n",
       "1                          0                             0   \n",
       "3                          0                             1   \n",
       "4                          0                             0   \n",
       "5                          0                             0   \n",
       "\n",
       "   neighbourhood_group_Manhattan  neighbourhood_group_Queens  \\\n",
       "0                              0                           0   \n",
       "1                              1                           0   \n",
       "3                              0                           0   \n",
       "4                              1                           0   \n",
       "5                              1                           0   \n",
       "\n",
       "   neighbourhood_group_Staten Island  room_type_Entire home/apt  \\\n",
       "0                                  0                          0   \n",
       "1                                  0                          1   \n",
       "3                                  0                          1   \n",
       "4                                  0                          1   \n",
       "5                                  0                          1   \n",
       "\n",
       "   room_type_Private room  room_type_Shared room  \n",
       "0                       1                      0  \n",
       "1                       0                      0  \n",
       "3                       0                      0  \n",
       "4                       0                      0  \n",
       "5                       0                      0  "
      ]
     },
     "metadata": {},
     "execution_count": 35
    }
   ],
   "metadata": {}
  },
  {
   "cell_type": "code",
   "execution_count": 36,
   "source": [
    "# Resetting the index of the dataset\n",
    "bnb2.reset_index(drop=True)\n",
    "bnb2.head()"
   ],
   "outputs": [
    {
     "output_type": "execute_result",
     "data": {
      "text/html": [
       "<div>\n",
       "<style scoped>\n",
       "    .dataframe tbody tr th:only-of-type {\n",
       "        vertical-align: middle;\n",
       "    }\n",
       "\n",
       "    .dataframe tbody tr th {\n",
       "        vertical-align: top;\n",
       "    }\n",
       "\n",
       "    .dataframe thead th {\n",
       "        text-align: right;\n",
       "    }\n",
       "</style>\n",
       "<table border=\"1\" class=\"dataframe\">\n",
       "  <thead>\n",
       "    <tr style=\"text-align: right;\">\n",
       "      <th></th>\n",
       "      <th>price</th>\n",
       "      <th>minimum_nights</th>\n",
       "      <th>number_of_reviews</th>\n",
       "      <th>reviews_per_month</th>\n",
       "      <th>calculated_host_listings_count</th>\n",
       "      <th>availability_365</th>\n",
       "      <th>days_since_last_review</th>\n",
       "      <th>neighbourhood_group_Bronx</th>\n",
       "      <th>neighbourhood_group_Brooklyn</th>\n",
       "      <th>neighbourhood_group_Manhattan</th>\n",
       "      <th>neighbourhood_group_Queens</th>\n",
       "      <th>neighbourhood_group_Staten Island</th>\n",
       "      <th>room_type_Entire home/apt</th>\n",
       "      <th>room_type_Private room</th>\n",
       "      <th>room_type_Shared room</th>\n",
       "    </tr>\n",
       "  </thead>\n",
       "  <tbody>\n",
       "    <tr>\n",
       "      <td>0</td>\n",
       "      <td>149</td>\n",
       "      <td>1</td>\n",
       "      <td>9</td>\n",
       "      <td>0.21</td>\n",
       "      <td>6</td>\n",
       "      <td>365.000000</td>\n",
       "      <td>414.0</td>\n",
       "      <td>0</td>\n",
       "      <td>1</td>\n",
       "      <td>0</td>\n",
       "      <td>0</td>\n",
       "      <td>0</td>\n",
       "      <td>0</td>\n",
       "      <td>1</td>\n",
       "      <td>0</td>\n",
       "    </tr>\n",
       "    <tr>\n",
       "      <td>1</td>\n",
       "      <td>225</td>\n",
       "      <td>1</td>\n",
       "      <td>45</td>\n",
       "      <td>0.38</td>\n",
       "      <td>2</td>\n",
       "      <td>355.000000</td>\n",
       "      <td>200.0</td>\n",
       "      <td>0</td>\n",
       "      <td>0</td>\n",
       "      <td>1</td>\n",
       "      <td>0</td>\n",
       "      <td>0</td>\n",
       "      <td>1</td>\n",
       "      <td>0</td>\n",
       "      <td>0</td>\n",
       "    </tr>\n",
       "    <tr>\n",
       "      <td>3</td>\n",
       "      <td>89</td>\n",
       "      <td>1</td>\n",
       "      <td>270</td>\n",
       "      <td>4.64</td>\n",
       "      <td>1</td>\n",
       "      <td>194.000000</td>\n",
       "      <td>155.0</td>\n",
       "      <td>0</td>\n",
       "      <td>1</td>\n",
       "      <td>0</td>\n",
       "      <td>0</td>\n",
       "      <td>0</td>\n",
       "      <td>1</td>\n",
       "      <td>0</td>\n",
       "      <td>0</td>\n",
       "    </tr>\n",
       "    <tr>\n",
       "      <td>4</td>\n",
       "      <td>80</td>\n",
       "      <td>10</td>\n",
       "      <td>9</td>\n",
       "      <td>0.10</td>\n",
       "      <td>1</td>\n",
       "      <td>114.886299</td>\n",
       "      <td>383.0</td>\n",
       "      <td>0</td>\n",
       "      <td>0</td>\n",
       "      <td>1</td>\n",
       "      <td>0</td>\n",
       "      <td>0</td>\n",
       "      <td>1</td>\n",
       "      <td>0</td>\n",
       "      <td>0</td>\n",
       "    </tr>\n",
       "    <tr>\n",
       "      <td>5</td>\n",
       "      <td>200</td>\n",
       "      <td>3</td>\n",
       "      <td>74</td>\n",
       "      <td>0.59</td>\n",
       "      <td>1</td>\n",
       "      <td>129.000000</td>\n",
       "      <td>168.0</td>\n",
       "      <td>0</td>\n",
       "      <td>0</td>\n",
       "      <td>1</td>\n",
       "      <td>0</td>\n",
       "      <td>0</td>\n",
       "      <td>1</td>\n",
       "      <td>0</td>\n",
       "      <td>0</td>\n",
       "    </tr>\n",
       "  </tbody>\n",
       "</table>\n",
       "</div>"
      ],
      "text/plain": [
       "   price  minimum_nights  number_of_reviews  reviews_per_month  \\\n",
       "0    149               1                  9               0.21   \n",
       "1    225               1                 45               0.38   \n",
       "3     89               1                270               4.64   \n",
       "4     80              10                  9               0.10   \n",
       "5    200               3                 74               0.59   \n",
       "\n",
       "   calculated_host_listings_count  availability_365  days_since_last_review  \\\n",
       "0                               6        365.000000                   414.0   \n",
       "1                               2        355.000000                   200.0   \n",
       "3                               1        194.000000                   155.0   \n",
       "4                               1        114.886299                   383.0   \n",
       "5                               1        129.000000                   168.0   \n",
       "\n",
       "   neighbourhood_group_Bronx  neighbourhood_group_Brooklyn  \\\n",
       "0                          0                             1   \n",
       "1                          0                             0   \n",
       "3                          0                             1   \n",
       "4                          0                             0   \n",
       "5                          0                             0   \n",
       "\n",
       "   neighbourhood_group_Manhattan  neighbourhood_group_Queens  \\\n",
       "0                              0                           0   \n",
       "1                              1                           0   \n",
       "3                              0                           0   \n",
       "4                              1                           0   \n",
       "5                              1                           0   \n",
       "\n",
       "   neighbourhood_group_Staten Island  room_type_Entire home/apt  \\\n",
       "0                                  0                          0   \n",
       "1                                  0                          1   \n",
       "3                                  0                          1   \n",
       "4                                  0                          1   \n",
       "5                                  0                          1   \n",
       "\n",
       "   room_type_Private room  room_type_Shared room  \n",
       "0                       1                      0  \n",
       "1                       0                      0  \n",
       "3                       0                      0  \n",
       "4                       0                      0  \n",
       "5                       0                      0  "
      ]
     },
     "metadata": {},
     "execution_count": 36
    }
   ],
   "metadata": {}
  },
  {
   "cell_type": "markdown",
   "source": [
    "## **4.3 Calculating Correlation**"
   ],
   "metadata": {}
  },
  {
   "cell_type": "markdown",
   "source": [
    "### **4.3.1 Drawing Correlation Table**"
   ],
   "metadata": {}
  },
  {
   "cell_type": "code",
   "execution_count": 37,
   "source": [
    "# Feature selection using correlation matrix\n",
    "plt.figure(figsize=(15,10))\n",
    "ax = plt.axes()\n",
    "ax.set_title(\"Correlation Heatmap\")\n",
    "sns.heatmap(bnb2.corr(),annot=True, fmt=\".2f\", cmap=\"YlGnBu\")\n",
    "bottom, top = ax.get_ylim()\n",
    "ax.set_ylim(bottom + 0.5, top - 0.5)"
   ],
   "outputs": [
    {
     "output_type": "execute_result",
     "data": {
      "text/plain": [
       "(15.0, 0.0)"
      ]
     },
     "metadata": {},
     "execution_count": 37
    },
    {
     "output_type": "display_data",
     "data": {
      "image/png": "[encoded data removed]",
      "text/plain": [
       "<Figure size 1080x720 with 2 Axes>"
      ]
     },
     "metadata": {
      "needs_background": "light"
     }
    }
   ],
   "metadata": {
    "scrolled": false
   }
  },
  {
   "cell_type": "markdown",
   "source": [
    "### **4.3.2 Applying Correlation Rule of Thumb**"
   ],
   "metadata": {}
  },
  {
   "cell_type": "code",
   "execution_count": 38,
   "source": [
    "minumum_correlation_value_needed = 2/math.sqrt(bnb.shape[0])\n",
    "print(\"Minimum correlation value needed to be statistically signficance for this dataset is\",minumum_correlation_value_needed)\n",
    "\n",
    "# Finding data correlation \n",
    "corr = bnb2.corr()\n",
    "print(abs(corr))"
   ],
   "outputs": [
    {
     "output_type": "stream",
     "name": "stdout",
     "text": [
      "Minimum correlation value needed to be statistically signficance for this dataset is 0.010150715051069814\n",
      "                                      price  minimum_nights  \\\n",
      "price                              1.000000        0.025501   \n",
      "minimum_nights                     0.025501        1.000000   \n",
      "number_of_reviews                  0.035924        0.069366   \n",
      "reviews_per_month                  0.030623        0.121712   \n",
      "calculated_host_listings_count     0.052895        0.073474   \n",
      "availability_365                   0.068142        0.094869   \n",
      "days_since_last_review             0.016843        0.052892   \n",
      "neighbourhood_group_Bronx          0.048389        0.016912   \n",
      "neighbourhood_group_Brooklyn       0.090792        0.027061   \n",
      "neighbourhood_group_Manhattan      0.165766        0.056938   \n",
      "neighbourhood_group_Queens         0.086335        0.034601   \n",
      "neighbourhood_group_Staten Island  0.024005        0.012717   \n",
      "room_type_Entire home/apt          0.287209        0.073259   \n",
      "room_type_Private room             0.270497        0.069778   \n",
      "room_type_Shared room              0.059947        0.012625   \n",
      "\n",
      "                                   number_of_reviews  reviews_per_month  \\\n",
      "price                                       0.035924           0.030623   \n",
      "minimum_nights                              0.069366           0.121712   \n",
      "number_of_reviews                           1.000000           0.549699   \n",
      "reviews_per_month                           0.549699           1.000000   \n",
      "calculated_host_listings_count              0.059796           0.009442   \n",
      "availability_365                            0.102409           0.037595   \n",
      "days_since_last_review                      0.282902           0.441461   \n",
      "neighbourhood_group_Bronx                   0.009743           0.042052   \n",
      "neighbourhood_group_Brooklyn                0.005055           0.045838   \n",
      "neighbourhood_group_Manhattan               0.035339           0.052254   \n",
      "neighbourhood_group_Queens                  0.038126           0.123657   \n",
      "neighbourhood_group_Staten Island           0.013990           0.026836   \n",
      "room_type_Entire home/apt                   0.016432           0.041489   \n",
      "room_type_Private room                      0.022412           0.039049   \n",
      "room_type_Shared room                       0.020225           0.008749   \n",
      "\n",
      "                                   calculated_host_listings_count  \\\n",
      "price                                                    0.052895   \n",
      "minimum_nights                                           0.073474   \n",
      "number_of_reviews                                        0.059796   \n",
      "reviews_per_month                                        0.009442   \n",
      "calculated_host_listings_count                           1.000000   \n",
      "availability_365                                         0.174307   \n",
      "days_since_last_review                                   0.050655   \n",
      "neighbourhood_group_Bronx                                0.017094   \n",
      "neighbourhood_group_Brooklyn                             0.095568   \n",
      "neighbourhood_group_Manhattan                            0.118676   \n",
      "neighbourhood_group_Queens                               0.025159   \n",
      "neighbourhood_group_Staten Island                        0.009538   \n",
      "room_type_Entire home/apt                                0.074628   \n",
      "room_type_Private room                                   0.074183   \n",
      "room_type_Shared room                                    0.002287   \n",
      "\n",
      "                                   availability_365  days_since_last_review  \\\n",
      "price                                      0.068142                0.016843   \n",
      "minimum_nights                             0.094869                0.052892   \n",
      "number_of_reviews                          0.102409                0.282902   \n",
      "reviews_per_month                          0.037595                0.441461   \n",
      "calculated_host_listings_count             0.174307                0.050655   \n",
      "availability_365                           1.000000                0.098041   \n",
      "days_since_last_review                     0.098041                1.000000   \n",
      "neighbourhood_group_Bronx                  0.049763                0.053263   \n",
      "neighbourhood_group_Brooklyn               0.050206                0.017287   \n",
      "neighbourhood_group_Manhattan              0.023777                0.060500   \n",
      "neighbourhood_group_Queens                 0.075485                0.083859   \n",
      "neighbourhood_group_Staten Island          0.054197                0.039533   \n",
      "room_type_Entire home/apt                  0.036124                0.006920   \n",
      "room_type_Private room                     0.020345                0.001004   \n",
      "room_type_Shared room                      0.054187                0.020246   \n",
      "\n",
      "                                   neighbourhood_group_Bronx  \\\n",
      "price                                               0.048389   \n",
      "minimum_nights                                      0.016912   \n",
      "number_of_reviews                                   0.009743   \n",
      "reviews_per_month                                   0.042052   \n",
      "calculated_host_listings_count                      0.017094   \n",
      "availability_365                                    0.049763   \n",
      "days_since_last_review                              0.053263   \n",
      "neighbourhood_group_Bronx                           1.000000   \n",
      "neighbourhood_group_Brooklyn                        0.130140   \n",
      "neighbourhood_group_Manhattan                       0.131393   \n",
      "neighbourhood_group_Queens                          0.055482   \n",
      "neighbourhood_group_Staten Island                   0.013712   \n",
      "room_type_Entire home/apt                           0.052129   \n",
      "room_type_Private room                              0.043945   \n",
      "room_type_Shared room                               0.028446   \n",
      "\n",
      "                                   neighbourhood_group_Brooklyn  \\\n",
      "price                                                  0.090792   \n",
      "minimum_nights                                         0.027061   \n",
      "number_of_reviews                                      0.005055   \n",
      "reviews_per_month                                      0.045838   \n",
      "calculated_host_listings_count                         0.095568   \n",
      "availability_365                                       0.050206   \n",
      "days_since_last_review                                 0.017287   \n",
      "neighbourhood_group_Bronx                              0.130140   \n",
      "neighbourhood_group_Brooklyn                           1.000000   \n",
      "neighbourhood_group_Manhattan                          0.741550   \n",
      "neighbourhood_group_Queens                             0.313125   \n",
      "neighbourhood_group_Staten Island                      0.077390   \n",
      "room_type_Entire home/apt                              0.046560   \n",
      "room_type_Private room                                 0.053845   \n",
      "room_type_Shared room                                  0.024367   \n",
      "\n",
      "                                   neighbourhood_group_Manhattan  \\\n",
      "price                                                   0.165766   \n",
      "minimum_nights                                          0.056938   \n",
      "number_of_reviews                                       0.035339   \n",
      "reviews_per_month                                       0.052254   \n",
      "calculated_host_listings_count                          0.118676   \n",
      "availability_365                                        0.023777   \n",
      "days_since_last_review                                  0.060500   \n",
      "neighbourhood_group_Bronx                               0.131393   \n",
      "neighbourhood_group_Brooklyn                            0.741550   \n",
      "neighbourhood_group_Manhattan                           1.000000   \n",
      "neighbourhood_group_Queens                              0.316141   \n",
      "neighbourhood_group_Staten Island                       0.078135   \n",
      "room_type_Entire home/apt                               0.131508   \n",
      "room_type_Private room                                  0.131255   \n",
      "room_type_Shared room                                   0.002214   \n",
      "\n",
      "                                   neighbourhood_group_Queens  \\\n",
      "price                                                0.086335   \n",
      "minimum_nights                                       0.034601   \n",
      "number_of_reviews                                    0.038126   \n",
      "reviews_per_month                                    0.123657   \n",
      "calculated_host_listings_count                       0.025159   \n",
      "availability_365                                     0.075485   \n",
      "days_since_last_review                               0.083859   \n",
      "neighbourhood_group_Bronx                            0.055482   \n",
      "neighbourhood_group_Brooklyn                         0.313125   \n",
      "neighbourhood_group_Manhattan                        0.316141   \n",
      "neighbourhood_group_Queens                           1.000000   \n",
      "neighbourhood_group_Staten Island                    0.032993   \n",
      "room_type_Entire home/apt                            0.104200   \n",
      "room_type_Private room                               0.096110   \n",
      "room_type_Shared room                                0.028662   \n",
      "\n",
      "                                   neighbourhood_group_Staten Island  \\\n",
      "price                                                       0.024005   \n",
      "minimum_nights                                              0.012717   \n",
      "number_of_reviews                                           0.013990   \n",
      "reviews_per_month                                           0.026836   \n",
      "calculated_host_listings_count                              0.009538   \n",
      "availability_365                                            0.054197   \n",
      "days_since_last_review                                      0.039533   \n",
      "neighbourhood_group_Bronx                                   0.013712   \n",
      "neighbourhood_group_Brooklyn                                0.077390   \n",
      "neighbourhood_group_Manhattan                               0.078135   \n",
      "neighbourhood_group_Queens                                  0.032993   \n",
      "neighbourhood_group_Staten Island                           1.000000   \n",
      "room_type_Entire home/apt                                   0.008271   \n",
      "room_type_Private room                                      0.009360   \n",
      "room_type_Shared room                                       0.003630   \n",
      "\n",
      "                                   room_type_Entire home/apt  \\\n",
      "price                                               0.287209   \n",
      "minimum_nights                                      0.073259   \n",
      "number_of_reviews                                   0.016432   \n",
      "reviews_per_month                                   0.041489   \n",
      "calculated_host_listings_count                      0.074628   \n",
      "availability_365                                    0.036124   \n",
      "days_since_last_review                              0.006920   \n",
      "neighbourhood_group_Bronx                           0.052129   \n",
      "neighbourhood_group_Brooklyn                        0.046560   \n",
      "neighbourhood_group_Manhattan                       0.131508   \n",
      "neighbourhood_group_Queens                          0.104200   \n",
      "neighbourhood_group_Staten Island                   0.008271   \n",
      "room_type_Entire home/apt                           1.000000   \n",
      "room_type_Private room                              0.957147   \n",
      "room_type_Shared room                               0.156431   \n",
      "\n",
      "                                   room_type_Private room  \\\n",
      "price                                            0.270497   \n",
      "minimum_nights                                   0.069778   \n",
      "number_of_reviews                                0.022412   \n",
      "reviews_per_month                                0.039049   \n",
      "calculated_host_listings_count                   0.074183   \n",
      "availability_365                                 0.020345   \n",
      "days_since_last_review                           0.001004   \n",
      "neighbourhood_group_Bronx                        0.043945   \n",
      "neighbourhood_group_Brooklyn                     0.053845   \n",
      "neighbourhood_group_Manhattan                    0.131255   \n",
      "neighbourhood_group_Queens                       0.096110   \n",
      "neighbourhood_group_Staten Island                0.009360   \n",
      "room_type_Entire home/apt                        0.957147   \n",
      "room_type_Private room                           1.000000   \n",
      "room_type_Shared room                            0.136310   \n",
      "\n",
      "                                   room_type_Shared room  \n",
      "price                                           0.059947  \n",
      "minimum_nights                                  0.012625  \n",
      "number_of_reviews                               0.020225  \n",
      "reviews_per_month                               0.008749  \n",
      "calculated_host_listings_count                  0.002287  \n",
      "availability_365                                0.054187  \n",
      "days_since_last_review                          0.020246  \n",
      "neighbourhood_group_Bronx                       0.028446  \n",
      "neighbourhood_group_Brooklyn                    0.024367  \n",
      "neighbourhood_group_Manhattan                   0.002214  \n",
      "neighbourhood_group_Queens                      0.028662  \n",
      "neighbourhood_group_Staten Island               0.003630  \n",
      "room_type_Entire home/apt                       0.156431  \n",
      "room_type_Private room                          0.136310  \n",
      "room_type_Shared room                           1.000000  \n"
     ]
    }
   ],
   "metadata": {
    "scrolled": true
   }
  },
  {
   "cell_type": "markdown",
   "source": [
    "All columns except calculated_host_listings_count and room_type_Shared room show a significant correlation with the reviews_per_month. We will drop calculated_host_listings_count in the dataset."
   ],
   "metadata": {}
  },
  {
   "cell_type": "code",
   "execution_count": 39,
   "source": [
    "bnb1.drop([\"calculated_host_listings_count\"],axis = 1, inplace = True)\n",
    "bnb1"
   ],
   "outputs": [
    {
     "output_type": "execute_result",
     "data": {
      "text/html": [
       "<div>\n",
       "<style scoped>\n",
       "    .dataframe tbody tr th:only-of-type {\n",
       "        vertical-align: middle;\n",
       "    }\n",
       "\n",
       "    .dataframe tbody tr th {\n",
       "        vertical-align: top;\n",
       "    }\n",
       "\n",
       "    .dataframe thead th {\n",
       "        text-align: right;\n",
       "    }\n",
       "</style>\n",
       "<table border=\"1\" class=\"dataframe\">\n",
       "  <thead>\n",
       "    <tr style=\"text-align: right;\">\n",
       "      <th></th>\n",
       "      <th>neighbourhood_group</th>\n",
       "      <th>room_type</th>\n",
       "      <th>price</th>\n",
       "      <th>minimum_nights</th>\n",
       "      <th>number_of_reviews</th>\n",
       "      <th>reviews_per_month</th>\n",
       "      <th>availability_365</th>\n",
       "      <th>days_since_last_review</th>\n",
       "    </tr>\n",
       "  </thead>\n",
       "  <tbody>\n",
       "    <tr>\n",
       "      <td>0</td>\n",
       "      <td>Brooklyn</td>\n",
       "      <td>Private room</td>\n",
       "      <td>149</td>\n",
       "      <td>1</td>\n",
       "      <td>9</td>\n",
       "      <td>0.21</td>\n",
       "      <td>365.000000</td>\n",
       "      <td>414.0</td>\n",
       "    </tr>\n",
       "    <tr>\n",
       "      <td>1</td>\n",
       "      <td>Manhattan</td>\n",
       "      <td>Entire home/apt</td>\n",
       "      <td>225</td>\n",
       "      <td>1</td>\n",
       "      <td>45</td>\n",
       "      <td>0.38</td>\n",
       "      <td>355.000000</td>\n",
       "      <td>200.0</td>\n",
       "    </tr>\n",
       "    <tr>\n",
       "      <td>3</td>\n",
       "      <td>Brooklyn</td>\n",
       "      <td>Entire home/apt</td>\n",
       "      <td>89</td>\n",
       "      <td>1</td>\n",
       "      <td>270</td>\n",
       "      <td>4.64</td>\n",
       "      <td>194.000000</td>\n",
       "      <td>155.0</td>\n",
       "    </tr>\n",
       "    <tr>\n",
       "      <td>4</td>\n",
       "      <td>Manhattan</td>\n",
       "      <td>Entire home/apt</td>\n",
       "      <td>80</td>\n",
       "      <td>10</td>\n",
       "      <td>9</td>\n",
       "      <td>0.10</td>\n",
       "      <td>114.886299</td>\n",
       "      <td>383.0</td>\n",
       "    </tr>\n",
       "    <tr>\n",
       "      <td>5</td>\n",
       "      <td>Manhattan</td>\n",
       "      <td>Entire home/apt</td>\n",
       "      <td>200</td>\n",
       "      <td>3</td>\n",
       "      <td>74</td>\n",
       "      <td>0.59</td>\n",
       "      <td>129.000000</td>\n",
       "      <td>168.0</td>\n",
       "    </tr>\n",
       "    <tr>\n",
       "      <td>...</td>\n",
       "      <td>...</td>\n",
       "      <td>...</td>\n",
       "      <td>...</td>\n",
       "      <td>...</td>\n",
       "      <td>...</td>\n",
       "      <td>...</td>\n",
       "      <td>...</td>\n",
       "      <td>...</td>\n",
       "    </tr>\n",
       "    <tr>\n",
       "      <td>48782</td>\n",
       "      <td>Manhattan</td>\n",
       "      <td>Private room</td>\n",
       "      <td>129</td>\n",
       "      <td>1</td>\n",
       "      <td>1</td>\n",
       "      <td>1.00</td>\n",
       "      <td>147.000000</td>\n",
       "      <td>153.0</td>\n",
       "    </tr>\n",
       "    <tr>\n",
       "      <td>48790</td>\n",
       "      <td>Queens</td>\n",
       "      <td>Private room</td>\n",
       "      <td>45</td>\n",
       "      <td>1</td>\n",
       "      <td>1</td>\n",
       "      <td>1.00</td>\n",
       "      <td>339.000000</td>\n",
       "      <td>153.0</td>\n",
       "    </tr>\n",
       "    <tr>\n",
       "      <td>48799</td>\n",
       "      <td>Staten Island</td>\n",
       "      <td>Private room</td>\n",
       "      <td>235</td>\n",
       "      <td>1</td>\n",
       "      <td>1</td>\n",
       "      <td>1.00</td>\n",
       "      <td>87.000000</td>\n",
       "      <td>153.0</td>\n",
       "    </tr>\n",
       "    <tr>\n",
       "      <td>48805</td>\n",
       "      <td>Bronx</td>\n",
       "      <td>Entire home/apt</td>\n",
       "      <td>100</td>\n",
       "      <td>1</td>\n",
       "      <td>2</td>\n",
       "      <td>2.00</td>\n",
       "      <td>40.000000</td>\n",
       "      <td>153.0</td>\n",
       "    </tr>\n",
       "    <tr>\n",
       "      <td>48852</td>\n",
       "      <td>Brooklyn</td>\n",
       "      <td>Private room</td>\n",
       "      <td>30</td>\n",
       "      <td>1</td>\n",
       "      <td>1</td>\n",
       "      <td>1.00</td>\n",
       "      <td>1.000000</td>\n",
       "      <td>152.0</td>\n",
       "    </tr>\n",
       "  </tbody>\n",
       "</table>\n",
       "<p>38821 rows × 8 columns</p>\n",
       "</div>"
      ],
      "text/plain": [
       "      neighbourhood_group        room_type  price  minimum_nights  \\\n",
       "0                Brooklyn     Private room    149               1   \n",
       "1               Manhattan  Entire home/apt    225               1   \n",
       "3                Brooklyn  Entire home/apt     89               1   \n",
       "4               Manhattan  Entire home/apt     80              10   \n",
       "5               Manhattan  Entire home/apt    200               3   \n",
       "...                   ...              ...    ...             ...   \n",
       "48782           Manhattan     Private room    129               1   \n",
       "48790              Queens     Private room     45               1   \n",
       "48799       Staten Island     Private room    235               1   \n",
       "48805               Bronx  Entire home/apt    100               1   \n",
       "48852            Brooklyn     Private room     30               1   \n",
       "\n",
       "       number_of_reviews  reviews_per_month  availability_365  \\\n",
       "0                      9               0.21        365.000000   \n",
       "1                     45               0.38        355.000000   \n",
       "3                    270               4.64        194.000000   \n",
       "4                      9               0.10        114.886299   \n",
       "5                     74               0.59        129.000000   \n",
       "...                  ...                ...               ...   \n",
       "48782                  1               1.00        147.000000   \n",
       "48790                  1               1.00        339.000000   \n",
       "48799                  1               1.00         87.000000   \n",
       "48805                  2               2.00         40.000000   \n",
       "48852                  1               1.00          1.000000   \n",
       "\n",
       "       days_since_last_review  \n",
       "0                       414.0  \n",
       "1                       200.0  \n",
       "3                       155.0  \n",
       "4                       383.0  \n",
       "5                       168.0  \n",
       "...                       ...  \n",
       "48782                   153.0  \n",
       "48790                   153.0  \n",
       "48799                   153.0  \n",
       "48805                   153.0  \n",
       "48852                   152.0  \n",
       "\n",
       "[38821 rows x 8 columns]"
      ]
     },
     "metadata": {},
     "execution_count": 39
    }
   ],
   "metadata": {
    "scrolled": true
   }
  },
  {
   "cell_type": "markdown",
   "source": [
    "## **4.4 Standardize dataset**"
   ],
   "metadata": {}
  },
  {
   "cell_type": "code",
   "execution_count": 40,
   "source": [
    "scaler  = MinMaxScaler()\n",
    "bnb2['price'] = scaler.fit_transform( bnb1['price'].values.reshape(-1, 1))\n",
    "bnb2['minimum_nights'] = scaler.fit_transform( bnb1['minimum_nights'].values.reshape(-1, 1))\n",
    "bnb2['availability_365'] = scaler.fit_transform( bnb1['availability_365'].values.reshape(-1, 1))\n",
    "bnb2['days_since_last_review'] = scaler.fit_transform( bnb1['days_since_last_review'].values.reshape(-1, 1))"
   ],
   "outputs": [],
   "metadata": {}
  },
  {
   "cell_type": "markdown",
   "source": [
    "## **4.5 Preparing X and y**"
   ],
   "metadata": {}
  },
  {
   "cell_type": "code",
   "execution_count": 41,
   "source": [
    "bnb_features = [\"price\", \"minimum_nights\", \"availability_365\", \"days_since_last_review\", \"neighbourhood_group_Bronx\", \"neighbourhood_group_Brooklyn\", \"neighbourhood_group_Manhattan\", \"neighbourhood_group_Queens\", \"neighbourhood_group_Staten Island\", \"room_type_Entire home/apt\", \"room_type_Private room\"]\n",
    "reviews_per_month = [\"reviews_per_month\"]\n",
    "\n",
    "X = bnb2[bnb_features].to_numpy()\n",
    "y = bnb1[reviews_per_month].to_numpy().ravel()\n",
    "\n",
    "print(X.shape)\n",
    "print(y.shape)"
   ],
   "outputs": [
    {
     "output_type": "stream",
     "name": "stdout",
     "text": [
      "(38821, 11)\n",
      "(38821,)\n"
     ]
    }
   ],
   "metadata": {}
  },
  {
   "cell_type": "markdown",
   "source": [
    "# **5. Model Building**"
   ],
   "metadata": {}
  },
  {
   "cell_type": "code",
   "execution_count": 42,
   "source": [
    "# Splitting the dataset into training and testing data \n",
    "X_train, X_validate, y_train, y_validate = train_test_split(X, y, test_size = 0.2, random_state = 2)\n",
    "\n",
    "print(\"x_train = \" , X_train.shape)\n",
    "print(\"y_train = \" , y_train.shape)\n",
    "print(\"x_validate = \" , X_validate.shape)\n",
    "print(\"y_validate = \" , y_validate.shape)"
   ],
   "outputs": [
    {
     "output_type": "stream",
     "name": "stdout",
     "text": [
      "x_train =  (31056, 11)\n",
      "y_train =  (31056,)\n",
      "x_validate =  (7765, 11)\n",
      "y_validate =  (7765,)\n"
     ]
    }
   ],
   "metadata": {}
  },
  {
   "cell_type": "markdown",
   "source": [
    "## **5.1 Baseline model construction**"
   ],
   "metadata": {}
  },
  {
   "cell_type": "markdown",
   "source": [
    "Intuitively, price has a very high correlation with the number of bookings. Therefore, we would like to construct  a baseline model which runs a linear regression with the price attribute only."
   ],
   "metadata": {}
  },
  {
   "cell_type": "code",
   "execution_count": 43,
   "source": [
    "baseline_features = ['price']\n",
    "\n",
    "baseline_X = bnb2[baseline_features]\n",
    "baseline_y = bnb1[reviews_per_month]\n",
    "\n",
    "baseline_X_train, baseline_X_validate, baseline_y_train, baseline_y_validate = train_test_split(baseline_X, baseline_y, test_size = 0.2, random_state = 2)\n",
    "\n",
    "model_linear = LinearRegression()\n",
    "linear = model_linear.fit(baseline_X_train, baseline_y_train)\n",
    "baseline_y_pred = linear.predict(baseline_X_train)\n",
    "baseline_mse = metrics.mean_squared_error(baseline_y_train,baseline_y_pred)\n",
    "baseline_rmse = np.sqrt(baseline_mse)\n",
    "\n",
    "print (\"The root-mean-square error for the baseline model is\",baseline_rmse)"
   ],
   "outputs": [
    {
     "output_type": "stream",
     "name": "stdout",
     "text": [
      "The root-mean-square error for the baseline model is 1.694940515828504\n"
     ]
    }
   ],
   "metadata": {}
  },
  {
   "cell_type": "markdown",
   "source": [
    "## **5.2 Model Building and Evaluation**"
   ],
   "metadata": {}
  },
  {
   "cell_type": "markdown",
   "source": [
    "## **5.2.1 Preliminary**"
   ],
   "metadata": {}
  },
  {
   "cell_type": "markdown",
   "source": [
    "In this section, there are five models as our choices for the analysis.\n",
    "    1. Linear regression\n",
    "    2. Ridge model\n",
    "    3. Lasso model\n",
    "    4. Bayesian Ridge model\n",
    "    5. Gradient Boost Regressor\n",
    "    \n",
    "In order to get the most accurate result, we will first fit our training dataset and testing dataset into each model. After that, we will test the root-mean-square error of the models and pick the one with the lowest RMSE value. We will run cross validation in each of the model to obtain the optimized parameters for performance benchmarking."
   ],
   "metadata": {}
  },
  {
   "cell_type": "markdown",
   "source": [
    "## **5.2.2 Linear Regression**"
   ],
   "metadata": {}
  },
  {
   "cell_type": "markdown",
   "source": [
    "The root-mean-square error of linear regression after fitting in the training dataset and the testing dataset."
   ],
   "metadata": {}
  },
  {
   "cell_type": "code",
   "execution_count": 44,
   "source": [
    "# LinearRegression\n",
    "linear_rmse = 0\n",
    "\n",
    "def rmse_linear(trainingX, trainingY, validationX, validationY):\n",
    "    total = 0\n",
    "    kf = KFold(n_splits=3)\n",
    "    kf.get_n_splits(trainingX)\n",
    "    for train_index, validate_index in kf.split(trainingX):\n",
    "        x_train, x_validate = trainingX[train_index], trainingX[validate_index]\n",
    "        y_train, y_validate = trainingY[train_index], trainingY[validate_index]\n",
    "        linear = LinearRegression()\n",
    "        linear.fit(trainingX, trainingY)\n",
    "        predictionL = linear.predict(validationX)\n",
    "        mse = mean_squared_error(validationY,predictionL)\n",
    "        rmse = sqrt(mse)\n",
    "    total+= rmse\n",
    "    avg= rmse/3\n",
    "    return avg\n",
    "\n",
    "def linear_main():\n",
    "    global linear_rmse\n",
    "    # Splitting the dataset into training and testing data \n",
    "    x_fulltrain, x_test,y_fulltrain, y_test = train_test_split(X, y, test_size = 0.2, random_state=42)\n",
    "    # Training and validation sets within the training set\n",
    "    x_train, x_validate,y_train, y_validate = train_test_split(x_fulltrain, y_fulltrain, test_size = 0.2, random_state=42)\n",
    "    print(\"x full training set = \" , x_fulltrain.shape)\n",
    "    print(\"x full testing = \" , x_test.shape)\n",
    "    print(\"x training subset\", x_train.shape)\n",
    "    print(\"x validate subset\", x_validate.shape)\n",
    "    \n",
    "    # Using the best parameter found\n",
    "    linear = LinearRegression()\n",
    "    linear.fit(x_fulltrain, y_fulltrain)\n",
    "    predictionL = linear.predict(x_test)\n",
    "    mse = mean_squared_error(y_test, predictionL)\n",
    "    linear_rmse = sqrt(mse)\n",
    "    print(\"The root-mean-square error of linear regression is\", linear_rmse)\n",
    "  \n",
    "linear_main()"
   ],
   "outputs": [
    {
     "output_type": "stream",
     "name": "stdout",
     "text": [
      "x full training set =  (31056, 11)\n",
      "x full testing =  (7765, 11)\n",
      "x training subset (24844, 11)\n",
      "x validate subset (6212, 11)\n",
      "The root-mean-square error of linear regression is 1.4429067023857058\n"
     ]
    }
   ],
   "metadata": {}
  },
  {
   "cell_type": "markdown",
   "source": [
    "## **5.2.3 Ridge**"
   ],
   "metadata": {}
  },
  {
   "cell_type": "markdown",
   "source": [
    "The root-mean-square error of Ridge model after fitting in the training dataset and the testing dataset."
   ],
   "metadata": {}
  },
  {
   "cell_type": "code",
   "execution_count": 45,
   "source": [
    "# Ridge\n",
    "ridge_rmse = 0\n",
    "\n",
    "# Range of alpha to test\n",
    "alphas=np.arange(1,100000,100)\n",
    "\n",
    "# Function to get the best alpha\n",
    "def get_best_alpha(trainingX, trainingY, validationX, validationY ):    \n",
    "    best_a = 0\n",
    "    best_rmse = float('inf')\n",
    "    for a in alphas:\n",
    "        current_rmse = rmse_ridge(trainingX, trainingY, validationX, validationY, a) #training parameter 'test' on validate set \n",
    "        average_rmse = current_rmse;\n",
    "        if average_rmse < best_rmse:\n",
    "            best_rmse = average_rmse\n",
    "            best_a = a\n",
    "    print(\"Best alpha is \" + str(best_a))\n",
    "    print(\"Best RMSE is \"+ str(average_rmse))\n",
    "    return best_a\n",
    "\n",
    "def rmse_ridge(trainingX, trainingY, validationX, validationY, a):\n",
    "    total = 0\n",
    "    kf = KFold(n_splits=3)\n",
    "    kf.get_n_splits(trainingX)\n",
    "    for train_index, validate_index in kf.split(trainingX):\n",
    "        x_train, x_validate = trainingX[train_index], trainingX[validate_index]\n",
    "        y_train, y_validate = trainingY[train_index], trainingY[validate_index]\n",
    "        ridge = Ridge(alpha=a)\n",
    "        ridge.fit(trainingX, trainingY)\n",
    "        predictionL = ridge.predict(validationX)\n",
    "        mse = mean_squared_error(validationY,predictionL)\n",
    "        rmse = sqrt(mse)\n",
    "    total+= rmse\n",
    "    avg= rmse/3\n",
    "    return avg\n",
    "\n",
    "def ridge_main():\n",
    "    global ridge_rmse\n",
    "    # Splitting the dataset into training and testing data \n",
    "    x_fulltrain, x_test,y_fulltrain, y_test = train_test_split(X, y, test_size = 0.2, random_state=42)\n",
    "    # Training and validation sets within the training set\n",
    "    x_train, x_validate,y_train, y_validate = train_test_split(x_fulltrain, y_fulltrain, test_size = 0.2, random_state=42)\n",
    "    print(\"x full training set = \" , x_fulltrain.shape)\n",
    "    print(\"x full testing = \" , x_test.shape)\n",
    "    print(\"x training subset\", x_train.shape)\n",
    "    print(\"x validate subset\", x_validate.shape)\n",
    "    alpha= get_best_alpha(x_train, y_train, x_validate, y_validate)\n",
    "    \n",
    "    # Using the best parameter found\n",
    "    ridge = Ridge(alpha=alpha)\n",
    "    ridge.fit(x_fulltrain, y_fulltrain)\n",
    "    predictionL = ridge.predict(x_test)\n",
    "    mse = mean_squared_error(y_test, predictionL)\n",
    "    ridge_rmse = sqrt(mse)\n",
    "    print(\"The root-mean-square error of ridge is\", ridge_rmse)\n",
    "  \n",
    "ridge_main()"
   ],
   "outputs": [
    {
     "output_type": "stream",
     "name": "stdout",
     "text": [
      "x full training set =  (31056, 11)\n",
      "x full testing =  (7765, 11)\n",
      "x training subset (24844, 11)\n",
      "x validate subset (6212, 11)\n",
      "Best alpha is 1\n",
      "Best RMSE is 0.5520821057884931\n",
      "The root-mean-square error of ridge is 1.4438425084905289\n"
     ]
    }
   ],
   "metadata": {}
  },
  {
   "cell_type": "markdown",
   "source": [
    "## **5.2.4 Lasso**"
   ],
   "metadata": {}
  },
  {
   "cell_type": "markdown",
   "source": [
    "The root-mean-square error of Lasso model after fitting in the training dataset and the testing dataset."
   ],
   "metadata": {}
  },
  {
   "cell_type": "code",
   "execution_count": 46,
   "source": [
    "# Lasso\n",
    "lasso_rmse = 0\n",
    "\n",
    "# Range of alpha to test\n",
    "alphas=np.arange(0.01,10,0.005)\n",
    "\n",
    "# Function to get the best alpha\n",
    "def get_best_alpha(trainingX, trainingY, validationX, validationY ):    \n",
    "    best_a = 0\n",
    "    best_rmse = float('inf')\n",
    "    for a in alphas:\n",
    "        current_rmse = rmse_lasso(trainingX, trainingY, validationX, validationY, a) #training parameter 'test' on validate set \n",
    "        average_rmse = current_rmse;\n",
    "        if average_rmse < best_rmse:\n",
    "            best_rmse = average_rmse\n",
    "            best_a = a\n",
    "    print(\"Best alpha is \" + str(best_a))\n",
    "    print(\"Best RMSE is \"+ str(average_rmse))\n",
    "    return best_a\n",
    "\n",
    "def rmse_lasso(trainingX, trainingY, validationX, validationY, a):\n",
    "    total = 0\n",
    "    kf = KFold(n_splits=3)\n",
    "    kf.get_n_splits(trainingX)\n",
    "    for train_index, validate_index in kf.split(trainingX):\n",
    "        x_train, x_validate = trainingX[train_index], trainingX[validate_index]\n",
    "        y_train, y_validate = trainingY[train_index], trainingY[validate_index]\n",
    "        lasso = Lasso(alpha=a)\n",
    "        lasso.fit(trainingX, trainingY)\n",
    "        predictionL = lasso.predict(validationX)\n",
    "        mse = mean_squared_error(validationY,predictionL)\n",
    "        rmse = sqrt(mse)\n",
    "    total+= rmse\n",
    "    avg= rmse/3\n",
    "    return avg\n",
    "\n",
    "def lasso_main():\n",
    "    global lasso_rmse\n",
    "    # Splitting the dataset into training and testing data \n",
    "    x_fulltrain, x_test,y_fulltrain, y_test = train_test_split(X, y, test_size = 0.2, random_state=42)\n",
    "    # Training and validation sets within the training set\n",
    "    x_train, x_validate,y_train, y_validate = train_test_split(x_fulltrain, y_fulltrain, test_size = 0.2, random_state=42)\n",
    "    print(\"x full training set = \" , x_fulltrain.shape)\n",
    "    print(\"x full testing = \" , x_test.shape)\n",
    "    print(\"x training subset\", x_train.shape)\n",
    "    print(\"x validate subset\", x_validate.shape)\n",
    "    alpha= get_best_alpha(x_train, y_train, x_validate, y_validate)\n",
    "    \n",
    "    # Using the best parameter found\n",
    "    lasso = Lasso(alpha=alpha)\n",
    "    lasso.fit(x_fulltrain, y_fulltrain)\n",
    "    predictionL = lasso.predict(x_test)\n",
    "    mse = mean_squared_error(y_test, predictionL)\n",
    "    lasso_rmse = sqrt(mse)\n",
    "    print(\"The root-mean-square error of lasso is\", lasso_rmse)\n",
    "  \n",
    "lasso_main()"
   ],
   "outputs": [
    {
     "output_type": "stream",
     "name": "stdout",
     "text": [
      "x full training set =  (31056, 11)\n",
      "x full testing =  (7765, 11)\n",
      "x training subset (24844, 11)\n",
      "x validate subset (6212, 11)\n",
      "Best alpha is 0.01\n",
      "Best RMSE is 0.5530160652943371\n",
      "The root-mean-square error of lasso is 1.4571036784354705\n"
     ]
    }
   ],
   "metadata": {}
  },
  {
   "cell_type": "markdown",
   "source": [
    "## **5.2.5 Bayesian Ridge**"
   ],
   "metadata": {}
  },
  {
   "cell_type": "markdown",
   "source": [
    "The root-mean-square error of Bayesian Ridge model after fitting in the training dataset and the testing dataset."
   ],
   "metadata": {}
  },
  {
   "cell_type": "code",
   "execution_count": 47,
   "source": [
    "# BayesianRidge\n",
    "bayesian_rmse = 0\n",
    "\n",
    "def rmse_bayesian(trainingX, trainingY, validationX, validationY):\n",
    "    total = 0\n",
    "    kf = KFold(n_splits=3)\n",
    "    kf.get_n_splits(trainingX)\n",
    "    for train_index, validate_index in kf.split(trainingX):\n",
    "        x_train, x_validate = trainingX[train_index], trainingX[validate_index]\n",
    "        y_train, y_validate = trainingY[train_index], trainingY[validate_index]\n",
    "        bayesian = BayesianRidge()\n",
    "        bayesian.fit(trainingX, trainingY)\n",
    "        predictionL = bayesian.predict(validationX)\n",
    "        mse = mean_squared_error(validationY,predictionL)\n",
    "        rmse = sqrt(mse)\n",
    "    total+= rmse\n",
    "    avg= rmse/3\n",
    "    return avg\n",
    "\n",
    "def bayesian_main():\n",
    "    global bayesian_rmse\n",
    "    # Splitting the dataset into training and testing data \n",
    "    x_fulltrain, x_test,y_fulltrain, y_test = train_test_split(X, y, test_size = 0.2, random_state=42)\n",
    "    # Training and validation sets within the training set\n",
    "    x_train, x_validate,y_train, y_validate = train_test_split(x_fulltrain, y_fulltrain, test_size = 0.2, random_state=42)\n",
    "    print(\"x full training set = \" , x_fulltrain.shape)\n",
    "    print(\"x full testing = \" , x_test.shape)\n",
    "    print(\"x training subset\", x_train.shape)\n",
    "    print(\"x validate subset\", x_validate.shape)\n",
    "    \n",
    "    # Using the best parameter found\n",
    "    bayesian = BayesianRidge()\n",
    "    bayesian.fit(x_fulltrain, y_fulltrain)\n",
    "    predictionL = bayesian.predict(x_test)\n",
    "    mse = mean_squared_error(y_test, predictionL)\n",
    "    bayesian_rmse = sqrt(mse)\n",
    "    print(\"The root-mean-square error of bayesian ridge is\", bayesian_rmse)\n",
    "  \n",
    "bayesian_main()"
   ],
   "outputs": [
    {
     "output_type": "stream",
     "name": "stdout",
     "text": [
      "x full training set =  (31056, 11)\n",
      "x full testing =  (7765, 11)\n",
      "x training subset (24844, 11)\n",
      "x validate subset (6212, 11)\n",
      "The root-mean-square error of bayesian ridge is 1.4430747477546308\n"
     ]
    }
   ],
   "metadata": {}
  },
  {
   "cell_type": "markdown",
   "source": [
    "## **5.2.6 Gradient Boosting Regressor**"
   ],
   "metadata": {}
  },
  {
   "cell_type": "markdown",
   "source": [
    "The root-mean-square error of Gradient Boosting Regressor model after fitting in the training dataset and the testing dataset."
   ],
   "metadata": {}
  },
  {
   "cell_type": "code",
   "execution_count": 48,
   "source": [
    "# GradientBoostingRegressor\n",
    "gbr_rmse = 0\n",
    "gbr = None\n",
    "\n",
    "# Range of alpha to test\n",
    "alphas=np.arange(0.01,0.99,0.05)\n",
    "\n",
    "# Function to get the best alpha\n",
    "def get_best_alpha(trainingX, trainingY, validationX, validationY ):    \n",
    "    best_a = 0\n",
    "    best_rmse = float('inf')\n",
    "    for a in alphas:\n",
    "        current_rmse = rmse_gbr(trainingX, trainingY, validationX, validationY, a) #training parameter 'test' on validate set \n",
    "        average_rmse = current_rmse;\n",
    "        if average_rmse < best_rmse:\n",
    "            best_rmse = average_rmse\n",
    "            best_a = a\n",
    "    print(\"Best alpha is \" + str(best_a))\n",
    "    print(\"Best RMSE is \"+ str(average_rmse))\n",
    "    return best_a\n",
    "\n",
    "def rmse_gbr(trainingX, trainingY, validationX, validationY, a):\n",
    "    total = 0\n",
    "    kf = KFold(n_splits=3)\n",
    "    kf.get_n_splits(trainingX)\n",
    "    for train_index, validate_index in kf.split(trainingX):\n",
    "        x_train, x_validate = trainingX[train_index], trainingX[validate_index]\n",
    "        y_train, y_validate = trainingY[train_index], trainingY[validate_index]\n",
    "        gbr = GradientBoostingRegressor(alpha=a, n_estimators=100, learning_rate=1.0,max_depth=1, random_state=0)\n",
    "        gbr.fit(trainingX, trainingY)\n",
    "        predictionL = gbr.predict(validationX)\n",
    "        mse = mean_squared_error(validationY,predictionL)\n",
    "        rmse = sqrt(mse)\n",
    "    total+= rmse\n",
    "    avg= rmse/3\n",
    "    return avg\n",
    "\n",
    "def gbr_main():\n",
    "    global gbr_rmse\n",
    "    global gbr\n",
    "    # Splitting the dataset into training and testing data \n",
    "    x_fulltrain, x_test,y_fulltrain, y_test = train_test_split(X, y, test_size = 0.2, random_state=42)\n",
    "    # Training and validation sets within the training set\n",
    "    x_train, x_validate,y_train, y_validate = train_test_split(x_fulltrain, y_fulltrain, test_size = 0.2, random_state=42)\n",
    "    print(\"x full training set = \" , x_fulltrain.shape)\n",
    "    print(\"x full testing = \" , x_test.shape)\n",
    "    print(\"x training subset\", x_train.shape)\n",
    "    print(\"x validate subset\", x_validate.shape)\n",
    "    alpha= get_best_alpha(x_train, y_train, x_validate, y_validate)\n",
    "    \n",
    "    # Using the best parameter found\n",
    "    gbr = GradientBoostingRegressor(alpha=alpha, n_estimators=100, learning_rate=1.0,max_depth=1, random_state=0)\n",
    "    gbr.fit(x_fulltrain, y_fulltrain)\n",
    "    predictionL = gbr.predict(x_test)\n",
    "    mse = mean_squared_error(y_test, predictionL)\n",
    "    gbr_rmse = sqrt(mse)\n",
    "    print(\"The root-mean-square error of gradient boosting regressor is\", gbr_rmse)\n",
    "  \n",
    "gbr_main()"
   ],
   "outputs": [
    {
     "output_type": "stream",
     "name": "stdout",
     "text": [
      "x full training set =  (31056, 11)\n",
      "x full testing =  (7765, 11)\n",
      "x training subset (24844, 11)\n",
      "x validate subset (6212, 11)\n",
      "Best alpha is 0.01\n",
      "Best RMSE is 0.3983043409788077\n",
      "The root-mean-square error of gradient boosting regressor is 1.1692725300593805\n"
     ]
    }
   ],
   "metadata": {}
  },
  {
   "cell_type": "markdown",
   "source": [
    "## **5.3 Results**"
   ],
   "metadata": {}
  },
  {
   "cell_type": "markdown",
   "source": [
    "All of the aforementioned models has a lower RMSE than the baseline model and are considered better. After a series of calculation, we can find the desired model for analysis."
   ],
   "metadata": {}
  },
  {
   "cell_type": "code",
   "execution_count": 49,
   "source": [
    "rmse = {\"Linear Regression\":linear_rmse,\"Ridge Regression\":ridge_rmse,\"Lasso Regression\":lasso_rmse,\"Bayesianridge Regression\":bayesian_rmse,\"Gradient Boosting Regressor\":gbr_rmse}\n",
    "min_value = min(rmse.values())\n",
    "min_keys = [k for k, v in rmse.items() if v == min_value]\n",
    "print(\"\")\n",
    "print(min_keys[0],\"has the lowest root-mean-square error of\", min_value)"
   ],
   "outputs": [
    {
     "output_type": "stream",
     "name": "stdout",
     "text": [
      "\n",
      "Gradient Boosting Regressor has the lowest root-mean-square error of 1.1692725300593805\n"
     ]
    }
   ],
   "metadata": {}
  },
  {
   "cell_type": "markdown",
   "source": [
    "As a result, **Gradient Boosting Regressor** will be used for prediction analysis."
   ],
   "metadata": {}
  },
  {
   "cell_type": "markdown",
   "source": [
    "## **5.4 Exploratory Data Analysis (EDA) after data construction**"
   ],
   "metadata": {}
  },
  {
   "cell_type": "markdown",
   "source": [
    "### **5.4.1 Scatter graph showing relationship between days since last review and reviews per month**"
   ],
   "metadata": {}
  },
  {
   "cell_type": "code",
   "execution_count": 50,
   "source": [
    "plt.subplots(figsize=(15,7))\n",
    "sns.scatterplot(x=bnb1[\"reviews_per_month\"], y=bnb1[\"days_since_last_review\"], data=bnb)\n",
    "plt.title(\"Relationship between days_since_last_review and reviews_per_month\")"
   ],
   "outputs": [
    {
     "output_type": "execute_result",
     "data": {
      "text/plain": [
       "Text(0.5, 1.0, 'Relationship between days_since_last_review and reviews_per_month')"
      ]
     },
     "metadata": {},
     "execution_count": 50
    },
    {
     "output_type": "display_data",
     "data": {
      "image/png": "[encoded data removed]",
      "text/plain": [
       "<Figure size 1080x504 with 1 Axes>"
      ]
     },
     "metadata": {
      "needs_background": "light"
     }
    }
   ],
   "metadata": {}
  },
  {
   "cell_type": "markdown",
   "source": [
    "From the graph, we can see a **negative relationship** between reviews_per_month and days_since_last_review, which means the higher the days since last review, the lower the reviews per month."
   ],
   "metadata": {}
  },
  {
   "cell_type": "markdown",
   "source": [
    "### **5.4.2 Horizontal bar chart showing the relationship between room type and total reviews per month**"
   ],
   "metadata": {}
  },
  {
   "cell_type": "code",
   "execution_count": 51,
   "source": [
    "bnb_graph = bnb1.groupby(['room_type'])['reviews_per_month'].sum()\n",
    "plt.subplots(figsize=(13,5))\n",
    "bnb_graph.plot(kind=\"barh\",color=['pink', 'orange', 'brown'])"
   ],
   "outputs": [
    {
     "output_type": "execute_result",
     "data": {
      "text/plain": [
       "<matplotlib.axes._subplots.AxesSubplot at 0x1a1ffb4410>"
      ]
     },
     "metadata": {},
     "execution_count": 51
    },
    {
     "output_type": "display_data",
     "data": {
      "image/png": "[encoded data removed]",
      "text/plain": [
       "<Figure size 936x360 with 1 Axes>"
      ]
     },
     "metadata": {
      "needs_background": "light"
     }
    }
   ],
   "metadata": {}
  },
  {
   "cell_type": "markdown",
   "source": [
    "From the graph, we can see that entire home/apartment and private room have a lot more reviews than shared room in the dataset, which means shared room has the least number of booking based on our prediction formula."
   ],
   "metadata": {}
  },
  {
   "cell_type": "markdown",
   "source": [
    "### **5.4.3 Scatterplot showing relationship of price and reviews_per_month**"
   ],
   "metadata": {}
  },
  {
   "cell_type": "code",
   "execution_count": 52,
   "source": [
    "plt.subplots(figsize=(15,7))\n",
    "sns.scatterplot(x=bnb1[\"reviews_per_month\"], y=bnb1[\"price\"], data=bnb)\n",
    "plt.title(\"Relationship between price and reviews_per_month\")"
   ],
   "outputs": [
    {
     "output_type": "execute_result",
     "data": {
      "text/plain": [
       "Text(0.5, 1.0, 'Relationship between price and reviews_per_month')"
      ]
     },
     "metadata": {},
     "execution_count": 52
    },
    {
     "output_type": "display_data",
     "data": {
      "image/png": "[encoded data removed]",
      "text/plain": [
       "<Figure size 1080x504 with 1 Axes>"
      ]
     },
     "metadata": {
      "needs_background": "light"
     }
    }
   ],
   "metadata": {}
  },
  {
   "cell_type": "markdown",
   "source": [
    "From the graph, we can see a *negative relationship* between reviews_per_month and price, implicating that the higher the price the lower the reviews per month."
   ],
   "metadata": {}
  },
  {
   "cell_type": "markdown",
   "source": [
    "# **6. Model Testing**"
   ],
   "metadata": {}
  },
  {
   "cell_type": "markdown",
   "source": [
    "## **6.1 Test the model**"
   ],
   "metadata": {}
  },
  {
   "cell_type": "code",
   "execution_count": 53,
   "source": [
    "Y_Predict = gbr.predict(X_validate)\n",
    "print('The following are the predicted results of the Testing Dataset')\n",
    "Y_Predict"
   ],
   "outputs": [
    {
     "output_type": "stream",
     "name": "stdout",
     "text": [
      "The following are the predicted results of the Testing Dataset\n"
     ]
    },
    {
     "output_type": "execute_result",
     "data": {
      "text/plain": [
       "array([ 2.95669827, -0.64256538, -0.03358568, ...,  0.65188971,\n",
       "        0.04358089,  0.84542274])"
      ]
     },
     "metadata": {},
     "execution_count": 53
    }
   ],
   "metadata": {
    "scrolled": true
   }
  },
  {
   "cell_type": "code",
   "execution_count": 54,
   "source": [
    "# Finish Timer\n",
    "print(\"---- The Workbook is completed in %s seconds / %s minutes----\" \\\n",
    "                 %((str(round((time.time() - Start_time),4))),(str(round(((time.time() - Start_time))/60,4)))))"
   ],
   "outputs": [
    {
     "output_type": "stream",
     "name": "stdout",
     "text": [
      "---- The Workbook is completed in 139.7344 seconds / 2.3289 minutes----\n"
     ]
    }
   ],
   "metadata": {}
  },
  {
   "cell_type": "markdown",
   "source": [
    "## **6.2 Converting reviews_per_month to projected number of booking**"
   ],
   "metadata": {}
  },
  {
   "cell_type": "markdown",
   "source": [
    "With the capability of predicting reviews per month, we can provide recommendations to Airbnb hosts to find their potential booking value. According to the research found from Insideairbnb, we derived the formula projected annual number of booking = (reviews per month * 12) / 0.5. \n",
    "\n",
    "    Illustration: \n",
    "        - Charles Airbnb has a predictied reviews per month = 10, so Charles's listing has a predicted booking rate for the year is (10*12)/0.5 = 240. Implying around 20 bookings per month. \n",
    "\n",
    "The statistics can serve as a key performance indicator (KPI) for airbnb hosts to manage their listings and think of strategies to improve their performance."
   ],
   "metadata": {}
  },
  {
   "cell_type": "markdown",
   "source": [
    "# **7. Conclusion**"
   ],
   "metadata": {}
  },
  {
   "cell_type": "markdown",
   "source": [
    "Our goal in the beginning was to **determine the popularity of an Airbnb listing**. We defined **popularity** as the **projected annual number of bookings**, which is calculated based on a formula revolving around **reviews per month**. We analyzed the remaining 8 features (name, neighbourhood group, room type, price, minimum nights, number of reviews, calculated host listings count and availability 365), performed **one-hot encoding** on categorical variables, and derived a **correlation table** in order to identify attributes with relevant impact on the listing popularity. After standardizing, we split the dataset into training and testing data. We built models including **linear regression** for simplicity, **ridge** for speed, **lasso** for sparsity, **bayesian ridge** to achieve maximum likelihood and **gradient boosting regressor** that allows for the optimization of arbitrary differentiable loss functions. Our group also considered **model enhancement strategies**, we believe other data mining strategies such has **text mining** using spacy and scattertext can be incorporated in the future. Sentiment analysis can further draw conclusions on the listing name to advice hosts to rephrase and boost their listing attractiveness.  \n",
    "\n",
    "In addition to the numerical prediction of booking rates, we have conducted **exploratory data analysis** that concludes correlations and trends that advices Airbnb hosts to **improve their listing popularity and profitability**. We found that attribute **day_since_last_review** has a **strong negative correlation** with reviews_per_month. This explains the **recency** of booking is a **crucial factor** for travellers. As mentioned in the above section, other trends such as **price** and **room type** also influences the traveller’s booking decision. By having a comprehensive understanding of listing attributes, Airbnb hosts can effectively **pinpoint their weaknesses and improve**. "
   ],
   "metadata": {}
  },
  {
   "cell_type": "code",
   "execution_count": null,
   "source": [],
   "outputs": [],
   "metadata": {}
  }
 ],
 "metadata": {
  "kernelspec": {
   "display_name": "Python 3",
   "language": "python",
   "name": "python3"
  },
  "language_info": {
   "codemirror_mode": {
    "name": "ipython",
    "version": 3
   },
   "file_extension": ".py",
   "mimetype": "text/x-python",
   "name": "python",
   "nbconvert_exporter": "python",
   "pygments_lexer": "ipython3",
   "version": "3.7.4"
  }
 },
 "nbformat": 4,
 "nbformat_minor": 2
}